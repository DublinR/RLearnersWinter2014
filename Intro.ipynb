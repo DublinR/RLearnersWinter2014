{
 "cells": [
  {
   "cell_type": "code",
   "execution_count": 2,
   "metadata": {
    "collapsed": true
   },
   "outputs": [],
   "source": [
    " \n",
    "x = 4\n",
    "y = TRUE\n",
    "z = \"Kevin\"\n",
    "\n",
    "iris\n",
    "mtcars\n"
   ]
  },
  {
   "cell_type": "code",
   "execution_count": 4,
   "metadata": {
    "collapsed": false
   },
   "outputs": [
    {
     "data": {
      "text/html": [
       "'list'"
      ],
      "text/latex": [
       "'list'"
      ],
      "text/markdown": [
       "'list'"
      ],
      "text/plain": [
       "[1] \"list\""
      ]
     },
     "metadata": {},
     "output_type": "display_data"
    },
    {
     "data": {
      "text/html": [
       "'data.frame'"
      ],
      "text/latex": [
       "'data.frame'"
      ],
      "text/markdown": [
       "'data.frame'"
      ],
      "text/plain": [
       "[1] \"data.frame\""
      ]
     },
     "metadata": {},
     "output_type": "display_data"
    }
   ],
   "source": [
    "mode(iris)\n",
    "class(iris)"
   ]
  },
  {
   "cell_type": "code",
   "execution_count": 6,
   "metadata": {
    "collapsed": false
   },
   "outputs": [
    {
     "name": "stderr",
     "output_type": "stream",
     "text": [
      "\n",
      "Attaching package: 'dplyr'\n",
      "\n",
      "The following objects are masked from 'package:stats':\n",
      "\n",
      "    filter, lag\n",
      "\n",
      "The following objects are masked from 'package:base':\n",
      "\n",
      "    intersect, setdiff, setequal, union\n",
      "\n",
      "\n",
      "Attaching package: 'tidyr'\n",
      "\n",
      "The following object is masked from 'package:magrittr':\n",
      "\n",
      "    extract\n",
      "\n"
     ]
    }
   ],
   "source": [
    "library(magrittr)\n",
    "library(dplyr)\n",
    "library(tidyr)"
   ]
  },
  {
   "cell_type": "code",
   "execution_count": 11,
   "metadata": {
    "collapsed": false
   },
   "outputs": [
    {
     "data": {
      "text/html": [
       "'table'"
      ],
      "text/latex": [
       "'table'"
      ],
      "text/markdown": [
       "'table'"
      ],
      "text/plain": [
       "[1] \"table\""
      ]
     },
     "metadata": {},
     "output_type": "display_data"
    }
   ],
   "source": [
    "library(magrittr)\n",
    "\n",
    "iris %>% head(10) %>% summary %>% class"
   ]
  },
  {
   "cell_type": "code",
   "execution_count": 12,
   "metadata": {
    "collapsed": true
   },
   "outputs": [],
   "source": [
    "library(dplyr)"
   ]
  },
  {
   "cell_type": "code",
   "execution_count": 13,
   "metadata": {
    "collapsed": false
   },
   "outputs": [
    {
     "data": {
      "text/html": [
       "<table>\n",
       "<thead><tr><th scope=col>Sepal.Length</th><th scope=col>Sepal.Width</th><th scope=col>Petal.Length</th><th scope=col>Petal.Width</th><th scope=col>Species</th></tr></thead>\n",
       "<tbody>\n",
       "\t<tr><td>5.1   </td><td>3.5   </td><td>1.4   </td><td>0.2   </td><td>setosa</td></tr>\n",
       "\t<tr><td>4.9   </td><td>3.0   </td><td>1.4   </td><td>0.2   </td><td>setosa</td></tr>\n",
       "\t<tr><td>4.7   </td><td>3.2   </td><td>1.3   </td><td>0.2   </td><td>setosa</td></tr>\n",
       "\t<tr><td>4.6   </td><td>3.1   </td><td>1.5   </td><td>0.2   </td><td>setosa</td></tr>\n",
       "\t<tr><td>5.0   </td><td>3.6   </td><td>1.4   </td><td>0.2   </td><td>setosa</td></tr>\n",
       "\t<tr><td>5.4   </td><td>3.9   </td><td>1.7   </td><td>0.4   </td><td>setosa</td></tr>\n",
       "\t<tr><td>4.6   </td><td>3.4   </td><td>1.4   </td><td>0.3   </td><td>setosa</td></tr>\n",
       "\t<tr><td>5.0   </td><td>3.4   </td><td>1.5   </td><td>0.2   </td><td>setosa</td></tr>\n",
       "\t<tr><td>4.4   </td><td>2.9   </td><td>1.4   </td><td>0.2   </td><td>setosa</td></tr>\n",
       "\t<tr><td>4.9   </td><td>3.1   </td><td>1.5   </td><td>0.1   </td><td>setosa</td></tr>\n",
       "</tbody>\n",
       "</table>\n"
      ],
      "text/latex": [
       "\\begin{tabular}{r|lllll}\n",
       " Sepal.Length & Sepal.Width & Petal.Length & Petal.Width & Species\\\\\n",
       "\\hline\n",
       "\t 5.1    & 3.5    & 1.4    & 0.2    & setosa\\\\\n",
       "\t 4.9    & 3.0    & 1.4    & 0.2    & setosa\\\\\n",
       "\t 4.7    & 3.2    & 1.3    & 0.2    & setosa\\\\\n",
       "\t 4.6    & 3.1    & 1.5    & 0.2    & setosa\\\\\n",
       "\t 5.0    & 3.6    & 1.4    & 0.2    & setosa\\\\\n",
       "\t 5.4    & 3.9    & 1.7    & 0.4    & setosa\\\\\n",
       "\t 4.6    & 3.4    & 1.4    & 0.3    & setosa\\\\\n",
       "\t 5.0    & 3.4    & 1.5    & 0.2    & setosa\\\\\n",
       "\t 4.4    & 2.9    & 1.4    & 0.2    & setosa\\\\\n",
       "\t 4.9    & 3.1    & 1.5    & 0.1    & setosa\\\\\n",
       "\\end{tabular}\n"
      ],
      "text/markdown": [
       "\n",
       "Sepal.Length | Sepal.Width | Petal.Length | Petal.Width | Species | \n",
       "|---|---|---|---|---|---|---|---|---|---|\n",
       "| 5.1    | 3.5    | 1.4    | 0.2    | setosa | \n",
       "| 4.9    | 3.0    | 1.4    | 0.2    | setosa | \n",
       "| 4.7    | 3.2    | 1.3    | 0.2    | setosa | \n",
       "| 4.6    | 3.1    | 1.5    | 0.2    | setosa | \n",
       "| 5.0    | 3.6    | 1.4    | 0.2    | setosa | \n",
       "| 5.4    | 3.9    | 1.7    | 0.4    | setosa | \n",
       "| 4.6    | 3.4    | 1.4    | 0.3    | setosa | \n",
       "| 5.0    | 3.4    | 1.5    | 0.2    | setosa | \n",
       "| 4.4    | 2.9    | 1.4    | 0.2    | setosa | \n",
       "| 4.9    | 3.1    | 1.5    | 0.1    | setosa | \n",
       "\n",
       "\n"
      ],
      "text/plain": [
       "   Sepal.Length Sepal.Width Petal.Length Petal.Width Species\n",
       "1  5.1          3.5         1.4          0.2         setosa \n",
       "2  4.9          3.0         1.4          0.2         setosa \n",
       "3  4.7          3.2         1.3          0.2         setosa \n",
       "4  4.6          3.1         1.5          0.2         setosa \n",
       "5  5.0          3.6         1.4          0.2         setosa \n",
       "6  5.4          3.9         1.7          0.4         setosa \n",
       "7  4.6          3.4         1.4          0.3         setosa \n",
       "8  5.0          3.4         1.5          0.2         setosa \n",
       "9  4.4          2.9         1.4          0.2         setosa \n",
       "10 4.9          3.1         1.5          0.1         setosa "
      ]
     },
     "metadata": {},
     "output_type": "display_data"
    }
   ],
   "source": [
    "# Hadley Wickham\n",
    "\n",
    "# filter\n",
    "# select\n",
    "# arrange\n",
    "\n",
    "head(iris,10)"
   ]
  },
  {
   "cell_type": "code",
   "execution_count": 16,
   "metadata": {
    "collapsed": false
   },
   "outputs": [
    {
     "data": {
      "text/html": [
       "<table>\n",
       "<thead><tr><th></th><th scope=col>mpg</th><th scope=col>cyl</th><th scope=col>disp</th><th scope=col>hp</th><th scope=col>drat</th><th scope=col>wt</th><th scope=col>qsec</th><th scope=col>vs</th><th scope=col>am</th><th scope=col>gear</th><th scope=col>carb</th></tr></thead>\n",
       "<tbody>\n",
       "\t<tr><th scope=row>Mazda RX4</th><td>21.0 </td><td>6    </td><td>160  </td><td>110  </td><td>3.90 </td><td>2.620</td><td>16.46</td><td>0    </td><td>1    </td><td>4    </td><td>4    </td></tr>\n",
       "\t<tr><th scope=row>Mazda RX4 Wag</th><td>21.0 </td><td>6    </td><td>160  </td><td>110  </td><td>3.90 </td><td>2.875</td><td>17.02</td><td>0    </td><td>1    </td><td>4    </td><td>4    </td></tr>\n",
       "\t<tr><th scope=row>Datsun 710</th><td>22.8 </td><td>4    </td><td>108  </td><td> 93  </td><td>3.85 </td><td>2.320</td><td>18.61</td><td>1    </td><td>1    </td><td>4    </td><td>1    </td></tr>\n",
       "\t<tr><th scope=row>Hornet 4 Drive</th><td>21.4 </td><td>6    </td><td>258  </td><td>110  </td><td>3.08 </td><td>3.215</td><td>19.44</td><td>1    </td><td>0    </td><td>3    </td><td>1    </td></tr>\n",
       "\t<tr><th scope=row>Hornet Sportabout</th><td>18.7 </td><td>8    </td><td>360  </td><td>175  </td><td>3.15 </td><td>3.440</td><td>17.02</td><td>0    </td><td>0    </td><td>3    </td><td>2    </td></tr>\n",
       "\t<tr><th scope=row>Valiant</th><td>18.1 </td><td>6    </td><td>225  </td><td>105  </td><td>2.76 </td><td>3.460</td><td>20.22</td><td>1    </td><td>0    </td><td>3    </td><td>1    </td></tr>\n",
       "</tbody>\n",
       "</table>\n"
      ],
      "text/latex": [
       "\\begin{tabular}{r|lllllllllll}\n",
       "  & mpg & cyl & disp & hp & drat & wt & qsec & vs & am & gear & carb\\\\\n",
       "\\hline\n",
       "\tMazda RX4 & 21.0  & 6     & 160   & 110   & 3.90  & 2.620 & 16.46 & 0     & 1     & 4     & 4    \\\\\n",
       "\tMazda RX4 Wag & 21.0  & 6     & 160   & 110   & 3.90  & 2.875 & 17.02 & 0     & 1     & 4     & 4    \\\\\n",
       "\tDatsun 710 & 22.8  & 4     & 108   &  93   & 3.85  & 2.320 & 18.61 & 1     & 1     & 4     & 1    \\\\\n",
       "\tHornet 4 Drive & 21.4  & 6     & 258   & 110   & 3.08  & 3.215 & 19.44 & 1     & 0     & 3     & 1    \\\\\n",
       "\tHornet Sportabout & 18.7  & 8     & 360   & 175   & 3.15  & 3.440 & 17.02 & 0     & 0     & 3     & 2    \\\\\n",
       "\tValiant & 18.1  & 6     & 225   & 105   & 2.76  & 3.460 & 20.22 & 1     & 0     & 3     & 1    \\\\\n",
       "\\end{tabular}\n"
      ],
      "text/markdown": [
       "\n",
       "| <!--/--> | mpg | cyl | disp | hp | drat | wt | qsec | vs | am | gear | carb | \n",
       "|---|---|---|---|---|---|\n",
       "| Mazda RX4 | 21.0  | 6     | 160   | 110   | 3.90  | 2.620 | 16.46 | 0     | 1     | 4     | 4     | \n",
       "| Mazda RX4 Wag | 21.0  | 6     | 160   | 110   | 3.90  | 2.875 | 17.02 | 0     | 1     | 4     | 4     | \n",
       "| Datsun 710 | 22.8  | 4     | 108   |  93   | 3.85  | 2.320 | 18.61 | 1     | 1     | 4     | 1     | \n",
       "| Hornet 4 Drive | 21.4  | 6     | 258   | 110   | 3.08  | 3.215 | 19.44 | 1     | 0     | 3     | 1     | \n",
       "| Hornet Sportabout | 18.7  | 8     | 360   | 175   | 3.15  | 3.440 | 17.02 | 0     | 0     | 3     | 2     | \n",
       "| Valiant | 18.1  | 6     | 225   | 105   | 2.76  | 3.460 | 20.22 | 1     | 0     | 3     | 1     | \n",
       "\n",
       "\n"
      ],
      "text/plain": [
       "                  mpg  cyl disp hp  drat wt    qsec  vs am gear carb\n",
       "Mazda RX4         21.0 6   160  110 3.90 2.620 16.46 0  1  4    4   \n",
       "Mazda RX4 Wag     21.0 6   160  110 3.90 2.875 17.02 0  1  4    4   \n",
       "Datsun 710        22.8 4   108   93 3.85 2.320 18.61 1  1  4    1   \n",
       "Hornet 4 Drive    21.4 6   258  110 3.08 3.215 19.44 1  0  3    1   \n",
       "Hornet Sportabout 18.7 8   360  175 3.15 3.440 17.02 0  0  3    2   \n",
       "Valiant           18.1 6   225  105 2.76 3.460 20.22 1  0  3    1   "
      ]
     },
     "metadata": {},
     "output_type": "display_data"
    }
   ],
   "source": [
    "head(mtcars)\n",
    "\n"
   ]
  },
  {
   "cell_type": "code",
   "execution_count": 17,
   "metadata": {
    "collapsed": false
   },
   "outputs": [
    {
     "data": {
      "text/html": [
       "<ol class=list-inline>\n",
       "\t<li>1</li>\n",
       "\t<li>2</li>\n",
       "\t<li>3</li>\n",
       "\t<li>4</li>\n",
       "</ol>\n"
      ],
      "text/latex": [
       "\\begin{enumerate*}\n",
       "\\item 1\n",
       "\\item 2\n",
       "\\item 3\n",
       "\\item 4\n",
       "\\end{enumerate*}\n"
      ],
      "text/markdown": [
       "1. 1\n",
       "2. 2\n",
       "3. 3\n",
       "4. 4\n",
       "\n",
       "\n"
      ],
      "text/plain": [
       "[1] 1 2 3 4"
      ]
     },
     "metadata": {},
     "output_type": "display_data"
    }
   ],
   "source": [
    "1:4"
   ]
  },
  {
   "cell_type": "code",
   "execution_count": 28,
   "metadata": {
    "collapsed": false
   },
   "outputs": [
    {
     "data": {
      "text/html": [
       "<table>\n",
       "<thead><tr><th></th><th scope=col>mpg</th><th scope=col>cyl</th><th scope=col>disp</th><th scope=col>drat</th><th scope=col>hp</th><th scope=col>wt</th><th scope=col>qsec</th><th scope=col>vs</th><th scope=col>am</th><th scope=col>gear</th><th scope=col>carb</th></tr></thead>\n",
       "<tbody>\n",
       "\t<tr><th scope=row>Mazda RX4</th><td>21.0 </td><td>6    </td><td>160.0</td><td>3.90 </td><td>110  </td><td>2.620</td><td>16.46</td><td>0    </td><td>1    </td><td>4    </td><td>4    </td></tr>\n",
       "\t<tr><th scope=row>Mazda RX4 Wag</th><td>21.0 </td><td>6    </td><td>160.0</td><td>3.90 </td><td>110  </td><td>2.875</td><td>17.02</td><td>0    </td><td>1    </td><td>4    </td><td>4    </td></tr>\n",
       "\t<tr><th scope=row>Datsun 710</th><td>22.8 </td><td>4    </td><td>108.0</td><td>3.85 </td><td> 93  </td><td>2.320</td><td>18.61</td><td>1    </td><td>1    </td><td>4    </td><td>1    </td></tr>\n",
       "\t<tr><th scope=row>Hornet 4 Drive</th><td>21.4 </td><td>6    </td><td>258.0</td><td>3.08 </td><td>110  </td><td>3.215</td><td>19.44</td><td>1    </td><td>0    </td><td>3    </td><td>1    </td></tr>\n",
       "\t<tr><th scope=row>Hornet Sportabout</th><td>18.7 </td><td>8    </td><td>360.0</td><td>3.15 </td><td>175  </td><td>3.440</td><td>17.02</td><td>0    </td><td>0    </td><td>3    </td><td>2    </td></tr>\n",
       "\t<tr><th scope=row>Valiant</th><td>18.1 </td><td>6    </td><td>225.0</td><td>2.76 </td><td>105  </td><td>3.460</td><td>20.22</td><td>1    </td><td>0    </td><td>3    </td><td>1    </td></tr>\n",
       "\t<tr><th scope=row>Duster 360</th><td>14.3 </td><td>8    </td><td>360.0</td><td>3.21 </td><td>245  </td><td>3.570</td><td>15.84</td><td>0    </td><td>0    </td><td>3    </td><td>4    </td></tr>\n",
       "\t<tr><th scope=row>Merc 240D</th><td>24.4 </td><td>4    </td><td>146.7</td><td>3.69 </td><td> 62  </td><td>3.190</td><td>20.00</td><td>1    </td><td>0    </td><td>4    </td><td>2    </td></tr>\n",
       "\t<tr><th scope=row>Merc 230</th><td>22.8 </td><td>4    </td><td>140.8</td><td>3.92 </td><td> 95  </td><td>3.150</td><td>22.90</td><td>1    </td><td>0    </td><td>4    </td><td>2    </td></tr>\n",
       "\t<tr><th scope=row>Merc 280</th><td>19.2 </td><td>6    </td><td>167.6</td><td>3.92 </td><td>123  </td><td>3.440</td><td>18.30</td><td>1    </td><td>0    </td><td>4    </td><td>4    </td></tr>\n",
       "\t<tr><th scope=row>Merc 280C</th><td>17.8 </td><td>6    </td><td>167.6</td><td>3.92 </td><td>123  </td><td>3.440</td><td>18.90</td><td>1    </td><td>0    </td><td>4    </td><td>4    </td></tr>\n",
       "\t<tr><th scope=row>Merc 450SE</th><td>16.4 </td><td>8    </td><td>275.8</td><td>3.07 </td><td>180  </td><td>4.070</td><td>17.40</td><td>0    </td><td>0    </td><td>3    </td><td>3    </td></tr>\n",
       "\t<tr><th scope=row>Merc 450SL</th><td>17.3 </td><td>8    </td><td>275.8</td><td>3.07 </td><td>180  </td><td>3.730</td><td>17.60</td><td>0    </td><td>0    </td><td>3    </td><td>3    </td></tr>\n",
       "\t<tr><th scope=row>Merc 450SLC</th><td>15.2 </td><td>8    </td><td>275.8</td><td>3.07 </td><td>180  </td><td>3.780</td><td>18.00</td><td>0    </td><td>0    </td><td>3    </td><td>3    </td></tr>\n",
       "\t<tr><th scope=row>Cadillac Fleetwood</th><td>10.4 </td><td>8    </td><td>472.0</td><td>2.93 </td><td>205  </td><td>5.250</td><td>17.98</td><td>0    </td><td>0    </td><td>3    </td><td>4    </td></tr>\n",
       "\t<tr><th scope=row>Lincoln Continental</th><td>10.4 </td><td>8    </td><td>460.0</td><td>3.00 </td><td>215  </td><td>5.424</td><td>17.82</td><td>0    </td><td>0    </td><td>3    </td><td>4    </td></tr>\n",
       "\t<tr><th scope=row>Chrysler Imperial</th><td>14.7 </td><td>8    </td><td>440.0</td><td>3.23 </td><td>230  </td><td>5.345</td><td>17.42</td><td>0    </td><td>0    </td><td>3    </td><td>4    </td></tr>\n",
       "\t<tr><th scope=row>Fiat 128</th><td>32.4 </td><td>4    </td><td> 78.7</td><td>4.08 </td><td> 66  </td><td>2.200</td><td>19.47</td><td>1    </td><td>1    </td><td>4    </td><td>1    </td></tr>\n",
       "\t<tr><th scope=row>Honda Civic</th><td>30.4 </td><td>4    </td><td> 75.7</td><td>4.93 </td><td> 52  </td><td>1.615</td><td>18.52</td><td>1    </td><td>1    </td><td>4    </td><td>2    </td></tr>\n",
       "\t<tr><th scope=row>Toyota Corolla</th><td>33.9 </td><td>4    </td><td> 71.1</td><td>4.22 </td><td> 65  </td><td>1.835</td><td>19.90</td><td>1    </td><td>1    </td><td>4    </td><td>1    </td></tr>\n",
       "\t<tr><th scope=row>Toyota Corona</th><td>21.5 </td><td>4    </td><td>120.1</td><td>3.70 </td><td> 97  </td><td>2.465</td><td>20.01</td><td>1    </td><td>0    </td><td>3    </td><td>1    </td></tr>\n",
       "\t<tr><th scope=row>Dodge Challenger</th><td>15.5 </td><td>8    </td><td>318.0</td><td>2.76 </td><td>150  </td><td>3.520</td><td>16.87</td><td>0    </td><td>0    </td><td>3    </td><td>2    </td></tr>\n",
       "\t<tr><th scope=row>AMC Javelin</th><td>15.2 </td><td>8    </td><td>304.0</td><td>3.15 </td><td>150  </td><td>3.435</td><td>17.30</td><td>0    </td><td>0    </td><td>3    </td><td>2    </td></tr>\n",
       "\t<tr><th scope=row>Camaro Z28</th><td>13.3 </td><td>8    </td><td>350.0</td><td>3.73 </td><td>245  </td><td>3.840</td><td>15.41</td><td>0    </td><td>0    </td><td>3    </td><td>4    </td></tr>\n",
       "\t<tr><th scope=row>Pontiac Firebird</th><td>19.2 </td><td>8    </td><td>400.0</td><td>3.08 </td><td>175  </td><td>3.845</td><td>17.05</td><td>0    </td><td>0    </td><td>3    </td><td>2    </td></tr>\n",
       "\t<tr><th scope=row>Fiat X1-9</th><td>27.3 </td><td>4    </td><td> 79.0</td><td>4.08 </td><td> 66  </td><td>1.935</td><td>18.90</td><td>1    </td><td>1    </td><td>4    </td><td>1    </td></tr>\n",
       "\t<tr><th scope=row>Porsche 914-2</th><td>26.0 </td><td>4    </td><td>120.3</td><td>4.43 </td><td> 91  </td><td>2.140</td><td>16.70</td><td>0    </td><td>1    </td><td>5    </td><td>2    </td></tr>\n",
       "\t<tr><th scope=row>Lotus Europa</th><td>30.4 </td><td>4    </td><td> 95.1</td><td>3.77 </td><td>113  </td><td>1.513</td><td>16.90</td><td>1    </td><td>1    </td><td>5    </td><td>2    </td></tr>\n",
       "\t<tr><th scope=row>Ford Pantera L</th><td>15.8 </td><td>8    </td><td>351.0</td><td>4.22 </td><td>264  </td><td>3.170</td><td>14.50</td><td>0    </td><td>1    </td><td>5    </td><td>4    </td></tr>\n",
       "\t<tr><th scope=row>Ferrari Dino</th><td>19.7 </td><td>6    </td><td>145.0</td><td>3.62 </td><td>175  </td><td>2.770</td><td>15.50</td><td>0    </td><td>1    </td><td>5    </td><td>6    </td></tr>\n",
       "\t<tr><th scope=row>Maserati Bora</th><td>15.0 </td><td>8    </td><td>301.0</td><td>3.54 </td><td>335  </td><td>3.570</td><td>14.60</td><td>0    </td><td>1    </td><td>5    </td><td>8    </td></tr>\n",
       "\t<tr><th scope=row>Volvo 142E</th><td>21.4 </td><td>4    </td><td>121.0</td><td>4.11 </td><td>109  </td><td>2.780</td><td>18.60</td><td>1    </td><td>1    </td><td>4    </td><td>2    </td></tr>\n",
       "</tbody>\n",
       "</table>\n"
      ],
      "text/latex": [
       "\\begin{tabular}{r|lllllllllll}\n",
       "  & mpg & cyl & disp & drat & hp & wt & qsec & vs & am & gear & carb\\\\\n",
       "\\hline\n",
       "\tMazda RX4 & 21.0  & 6     & 160.0 & 3.90  & 110   & 2.620 & 16.46 & 0     & 1     & 4     & 4    \\\\\n",
       "\tMazda RX4 Wag & 21.0  & 6     & 160.0 & 3.90  & 110   & 2.875 & 17.02 & 0     & 1     & 4     & 4    \\\\\n",
       "\tDatsun 710 & 22.8  & 4     & 108.0 & 3.85  &  93   & 2.320 & 18.61 & 1     & 1     & 4     & 1    \\\\\n",
       "\tHornet 4 Drive & 21.4  & 6     & 258.0 & 3.08  & 110   & 3.215 & 19.44 & 1     & 0     & 3     & 1    \\\\\n",
       "\tHornet Sportabout & 18.7  & 8     & 360.0 & 3.15  & 175   & 3.440 & 17.02 & 0     & 0     & 3     & 2    \\\\\n",
       "\tValiant & 18.1  & 6     & 225.0 & 2.76  & 105   & 3.460 & 20.22 & 1     & 0     & 3     & 1    \\\\\n",
       "\tDuster 360 & 14.3  & 8     & 360.0 & 3.21  & 245   & 3.570 & 15.84 & 0     & 0     & 3     & 4    \\\\\n",
       "\tMerc 240D & 24.4  & 4     & 146.7 & 3.69  &  62   & 3.190 & 20.00 & 1     & 0     & 4     & 2    \\\\\n",
       "\tMerc 230 & 22.8  & 4     & 140.8 & 3.92  &  95   & 3.150 & 22.90 & 1     & 0     & 4     & 2    \\\\\n",
       "\tMerc 280 & 19.2  & 6     & 167.6 & 3.92  & 123   & 3.440 & 18.30 & 1     & 0     & 4     & 4    \\\\\n",
       "\tMerc 280C & 17.8  & 6     & 167.6 & 3.92  & 123   & 3.440 & 18.90 & 1     & 0     & 4     & 4    \\\\\n",
       "\tMerc 450SE & 16.4  & 8     & 275.8 & 3.07  & 180   & 4.070 & 17.40 & 0     & 0     & 3     & 3    \\\\\n",
       "\tMerc 450SL & 17.3  & 8     & 275.8 & 3.07  & 180   & 3.730 & 17.60 & 0     & 0     & 3     & 3    \\\\\n",
       "\tMerc 450SLC & 15.2  & 8     & 275.8 & 3.07  & 180   & 3.780 & 18.00 & 0     & 0     & 3     & 3    \\\\\n",
       "\tCadillac Fleetwood & 10.4  & 8     & 472.0 & 2.93  & 205   & 5.250 & 17.98 & 0     & 0     & 3     & 4    \\\\\n",
       "\tLincoln Continental & 10.4  & 8     & 460.0 & 3.00  & 215   & 5.424 & 17.82 & 0     & 0     & 3     & 4    \\\\\n",
       "\tChrysler Imperial & 14.7  & 8     & 440.0 & 3.23  & 230   & 5.345 & 17.42 & 0     & 0     & 3     & 4    \\\\\n",
       "\tFiat 128 & 32.4  & 4     &  78.7 & 4.08  &  66   & 2.200 & 19.47 & 1     & 1     & 4     & 1    \\\\\n",
       "\tHonda Civic & 30.4  & 4     &  75.7 & 4.93  &  52   & 1.615 & 18.52 & 1     & 1     & 4     & 2    \\\\\n",
       "\tToyota Corolla & 33.9  & 4     &  71.1 & 4.22  &  65   & 1.835 & 19.90 & 1     & 1     & 4     & 1    \\\\\n",
       "\tToyota Corona & 21.5  & 4     & 120.1 & 3.70  &  97   & 2.465 & 20.01 & 1     & 0     & 3     & 1    \\\\\n",
       "\tDodge Challenger & 15.5  & 8     & 318.0 & 2.76  & 150   & 3.520 & 16.87 & 0     & 0     & 3     & 2    \\\\\n",
       "\tAMC Javelin & 15.2  & 8     & 304.0 & 3.15  & 150   & 3.435 & 17.30 & 0     & 0     & 3     & 2    \\\\\n",
       "\tCamaro Z28 & 13.3  & 8     & 350.0 & 3.73  & 245   & 3.840 & 15.41 & 0     & 0     & 3     & 4    \\\\\n",
       "\tPontiac Firebird & 19.2  & 8     & 400.0 & 3.08  & 175   & 3.845 & 17.05 & 0     & 0     & 3     & 2    \\\\\n",
       "\tFiat X1-9 & 27.3  & 4     &  79.0 & 4.08  &  66   & 1.935 & 18.90 & 1     & 1     & 4     & 1    \\\\\n",
       "\tPorsche 914-2 & 26.0  & 4     & 120.3 & 4.43  &  91   & 2.140 & 16.70 & 0     & 1     & 5     & 2    \\\\\n",
       "\tLotus Europa & 30.4  & 4     &  95.1 & 3.77  & 113   & 1.513 & 16.90 & 1     & 1     & 5     & 2    \\\\\n",
       "\tFord Pantera L & 15.8  & 8     & 351.0 & 4.22  & 264   & 3.170 & 14.50 & 0     & 1     & 5     & 4    \\\\\n",
       "\tFerrari Dino & 19.7  & 6     & 145.0 & 3.62  & 175   & 2.770 & 15.50 & 0     & 1     & 5     & 6    \\\\\n",
       "\tMaserati Bora & 15.0  & 8     & 301.0 & 3.54  & 335   & 3.570 & 14.60 & 0     & 1     & 5     & 8    \\\\\n",
       "\tVolvo 142E & 21.4  & 4     & 121.0 & 4.11  & 109   & 2.780 & 18.60 & 1     & 1     & 4     & 2    \\\\\n",
       "\\end{tabular}\n"
      ],
      "text/markdown": [
       "\n",
       "| <!--/--> | mpg | cyl | disp | drat | hp | wt | qsec | vs | am | gear | carb | \n",
       "|---|---|---|---|---|---|---|---|---|---|---|---|---|---|---|---|---|---|---|---|---|---|---|---|---|---|---|---|---|---|---|---|\n",
       "| Mazda RX4 | 21.0  | 6     | 160.0 | 3.90  | 110   | 2.620 | 16.46 | 0     | 1     | 4     | 4     | \n",
       "| Mazda RX4 Wag | 21.0  | 6     | 160.0 | 3.90  | 110   | 2.875 | 17.02 | 0     | 1     | 4     | 4     | \n",
       "| Datsun 710 | 22.8  | 4     | 108.0 | 3.85  |  93   | 2.320 | 18.61 | 1     | 1     | 4     | 1     | \n",
       "| Hornet 4 Drive | 21.4  | 6     | 258.0 | 3.08  | 110   | 3.215 | 19.44 | 1     | 0     | 3     | 1     | \n",
       "| Hornet Sportabout | 18.7  | 8     | 360.0 | 3.15  | 175   | 3.440 | 17.02 | 0     | 0     | 3     | 2     | \n",
       "| Valiant | 18.1  | 6     | 225.0 | 2.76  | 105   | 3.460 | 20.22 | 1     | 0     | 3     | 1     | \n",
       "| Duster 360 | 14.3  | 8     | 360.0 | 3.21  | 245   | 3.570 | 15.84 | 0     | 0     | 3     | 4     | \n",
       "| Merc 240D | 24.4  | 4     | 146.7 | 3.69  |  62   | 3.190 | 20.00 | 1     | 0     | 4     | 2     | \n",
       "| Merc 230 | 22.8  | 4     | 140.8 | 3.92  |  95   | 3.150 | 22.90 | 1     | 0     | 4     | 2     | \n",
       "| Merc 280 | 19.2  | 6     | 167.6 | 3.92  | 123   | 3.440 | 18.30 | 1     | 0     | 4     | 4     | \n",
       "| Merc 280C | 17.8  | 6     | 167.6 | 3.92  | 123   | 3.440 | 18.90 | 1     | 0     | 4     | 4     | \n",
       "| Merc 450SE | 16.4  | 8     | 275.8 | 3.07  | 180   | 4.070 | 17.40 | 0     | 0     | 3     | 3     | \n",
       "| Merc 450SL | 17.3  | 8     | 275.8 | 3.07  | 180   | 3.730 | 17.60 | 0     | 0     | 3     | 3     | \n",
       "| Merc 450SLC | 15.2  | 8     | 275.8 | 3.07  | 180   | 3.780 | 18.00 | 0     | 0     | 3     | 3     | \n",
       "| Cadillac Fleetwood | 10.4  | 8     | 472.0 | 2.93  | 205   | 5.250 | 17.98 | 0     | 0     | 3     | 4     | \n",
       "| Lincoln Continental | 10.4  | 8     | 460.0 | 3.00  | 215   | 5.424 | 17.82 | 0     | 0     | 3     | 4     | \n",
       "| Chrysler Imperial | 14.7  | 8     | 440.0 | 3.23  | 230   | 5.345 | 17.42 | 0     | 0     | 3     | 4     | \n",
       "| Fiat 128 | 32.4  | 4     |  78.7 | 4.08  |  66   | 2.200 | 19.47 | 1     | 1     | 4     | 1     | \n",
       "| Honda Civic | 30.4  | 4     |  75.7 | 4.93  |  52   | 1.615 | 18.52 | 1     | 1     | 4     | 2     | \n",
       "| Toyota Corolla | 33.9  | 4     |  71.1 | 4.22  |  65   | 1.835 | 19.90 | 1     | 1     | 4     | 1     | \n",
       "| Toyota Corona | 21.5  | 4     | 120.1 | 3.70  |  97   | 2.465 | 20.01 | 1     | 0     | 3     | 1     | \n",
       "| Dodge Challenger | 15.5  | 8     | 318.0 | 2.76  | 150   | 3.520 | 16.87 | 0     | 0     | 3     | 2     | \n",
       "| AMC Javelin | 15.2  | 8     | 304.0 | 3.15  | 150   | 3.435 | 17.30 | 0     | 0     | 3     | 2     | \n",
       "| Camaro Z28 | 13.3  | 8     | 350.0 | 3.73  | 245   | 3.840 | 15.41 | 0     | 0     | 3     | 4     | \n",
       "| Pontiac Firebird | 19.2  | 8     | 400.0 | 3.08  | 175   | 3.845 | 17.05 | 0     | 0     | 3     | 2     | \n",
       "| Fiat X1-9 | 27.3  | 4     |  79.0 | 4.08  |  66   | 1.935 | 18.90 | 1     | 1     | 4     | 1     | \n",
       "| Porsche 914-2 | 26.0  | 4     | 120.3 | 4.43  |  91   | 2.140 | 16.70 | 0     | 1     | 5     | 2     | \n",
       "| Lotus Europa | 30.4  | 4     |  95.1 | 3.77  | 113   | 1.513 | 16.90 | 1     | 1     | 5     | 2     | \n",
       "| Ford Pantera L | 15.8  | 8     | 351.0 | 4.22  | 264   | 3.170 | 14.50 | 0     | 1     | 5     | 4     | \n",
       "| Ferrari Dino | 19.7  | 6     | 145.0 | 3.62  | 175   | 2.770 | 15.50 | 0     | 1     | 5     | 6     | \n",
       "| Maserati Bora | 15.0  | 8     | 301.0 | 3.54  | 335   | 3.570 | 14.60 | 0     | 1     | 5     | 8     | \n",
       "| Volvo 142E | 21.4  | 4     | 121.0 | 4.11  | 109   | 2.780 | 18.60 | 1     | 1     | 4     | 2     | \n",
       "\n",
       "\n"
      ],
      "text/plain": [
       "                    mpg  cyl disp  drat hp  wt    qsec  vs am gear carb\n",
       "Mazda RX4           21.0 6   160.0 3.90 110 2.620 16.46 0  1  4    4   \n",
       "Mazda RX4 Wag       21.0 6   160.0 3.90 110 2.875 17.02 0  1  4    4   \n",
       "Datsun 710          22.8 4   108.0 3.85  93 2.320 18.61 1  1  4    1   \n",
       "Hornet 4 Drive      21.4 6   258.0 3.08 110 3.215 19.44 1  0  3    1   \n",
       "Hornet Sportabout   18.7 8   360.0 3.15 175 3.440 17.02 0  0  3    2   \n",
       "Valiant             18.1 6   225.0 2.76 105 3.460 20.22 1  0  3    1   \n",
       "Duster 360          14.3 8   360.0 3.21 245 3.570 15.84 0  0  3    4   \n",
       "Merc 240D           24.4 4   146.7 3.69  62 3.190 20.00 1  0  4    2   \n",
       "Merc 230            22.8 4   140.8 3.92  95 3.150 22.90 1  0  4    2   \n",
       "Merc 280            19.2 6   167.6 3.92 123 3.440 18.30 1  0  4    4   \n",
       "Merc 280C           17.8 6   167.6 3.92 123 3.440 18.90 1  0  4    4   \n",
       "Merc 450SE          16.4 8   275.8 3.07 180 4.070 17.40 0  0  3    3   \n",
       "Merc 450SL          17.3 8   275.8 3.07 180 3.730 17.60 0  0  3    3   \n",
       "Merc 450SLC         15.2 8   275.8 3.07 180 3.780 18.00 0  0  3    3   \n",
       "Cadillac Fleetwood  10.4 8   472.0 2.93 205 5.250 17.98 0  0  3    4   \n",
       "Lincoln Continental 10.4 8   460.0 3.00 215 5.424 17.82 0  0  3    4   \n",
       "Chrysler Imperial   14.7 8   440.0 3.23 230 5.345 17.42 0  0  3    4   \n",
       "Fiat 128            32.4 4    78.7 4.08  66 2.200 19.47 1  1  4    1   \n",
       "Honda Civic         30.4 4    75.7 4.93  52 1.615 18.52 1  1  4    2   \n",
       "Toyota Corolla      33.9 4    71.1 4.22  65 1.835 19.90 1  1  4    1   \n",
       "Toyota Corona       21.5 4   120.1 3.70  97 2.465 20.01 1  0  3    1   \n",
       "Dodge Challenger    15.5 8   318.0 2.76 150 3.520 16.87 0  0  3    2   \n",
       "AMC Javelin         15.2 8   304.0 3.15 150 3.435 17.30 0  0  3    2   \n",
       "Camaro Z28          13.3 8   350.0 3.73 245 3.840 15.41 0  0  3    4   \n",
       "Pontiac Firebird    19.2 8   400.0 3.08 175 3.845 17.05 0  0  3    2   \n",
       "Fiat X1-9           27.3 4    79.0 4.08  66 1.935 18.90 1  1  4    1   \n",
       "Porsche 914-2       26.0 4   120.3 4.43  91 2.140 16.70 0  1  5    2   \n",
       "Lotus Europa        30.4 4    95.1 3.77 113 1.513 16.90 1  1  5    2   \n",
       "Ford Pantera L      15.8 8   351.0 4.22 264 3.170 14.50 0  1  5    4   \n",
       "Ferrari Dino        19.7 6   145.0 3.62 175 2.770 15.50 0  1  5    6   \n",
       "Maserati Bora       15.0 8   301.0 3.54 335 3.570 14.60 0  1  5    8   \n",
       "Volvo 142E          21.4 4   121.0 4.11 109 2.780 18.60 1  1  4    2   "
      ]
     },
     "metadata": {},
     "output_type": "display_data"
    }
   ],
   "source": [
    "select(mtcars,1:3,contains(\"d\"),everything())"
   ]
  },
  {
   "cell_type": "code",
   "execution_count": 27,
   "metadata": {
    "collapsed": true
   },
   "outputs": [],
   "source": [
    "help(select)"
   ]
  },
  {
   "cell_type": "code",
   "execution_count": 29,
   "metadata": {
    "collapsed": false
   },
   "outputs": [
    {
     "data": {
      "text/plain": [
       "  Sepal.Length    Sepal.Width     Petal.Length    Petal.Width   \n",
       " Min.   :4.300   Min.   :2.000   Min.   :1.000   Min.   :0.100  \n",
       " 1st Qu.:5.100   1st Qu.:2.800   1st Qu.:1.600   1st Qu.:0.300  \n",
       " Median :5.800   Median :3.000   Median :4.350   Median :1.300  \n",
       " Mean   :5.843   Mean   :3.057   Mean   :3.758   Mean   :1.199  \n",
       " 3rd Qu.:6.400   3rd Qu.:3.300   3rd Qu.:5.100   3rd Qu.:1.800  \n",
       " Max.   :7.900   Max.   :4.400   Max.   :6.900   Max.   :2.500  \n",
       "       Species  \n",
       " setosa    :50  \n",
       " versicolor:50  \n",
       " virginica :50  \n",
       "                \n",
       "                \n",
       "                "
      ]
     },
     "metadata": {},
     "output_type": "display_data"
    }
   ],
   "source": [
    "summary(iris)"
   ]
  },
  {
   "cell_type": "code",
   "execution_count": 30,
   "metadata": {
    "collapsed": false
   },
   "outputs": [
    {
     "data": {
      "text/plain": [
       "  Sepal.Length    Sepal.Width     Petal.Length    Petal.Width   \n",
       " Min.   :4.300   Min.   :2.000   Min.   :1.000   Min.   :0.100  \n",
       " 1st Qu.:5.100   1st Qu.:2.800   1st Qu.:1.600   1st Qu.:0.300  \n",
       " Median :5.800   Median :3.000   Median :4.350   Median :1.300  \n",
       " Mean   :5.843   Mean   :3.057   Mean   :3.758   Mean   :1.199  \n",
       " 3rd Qu.:6.400   3rd Qu.:3.300   3rd Qu.:5.100   3rd Qu.:1.800  \n",
       " Max.   :7.900   Max.   :4.400   Max.   :6.900   Max.   :2.500  \n",
       "       Species  \n",
       " setosa    :50  \n",
       " versicolor:50  \n",
       " virginica :50  \n",
       "                \n",
       "                \n",
       "                "
      ]
     },
     "metadata": {},
     "output_type": "display_data"
    }
   ],
   "source": [
    "iris2 = group_by(iris,Species)\n",
    "\n",
    "summary(iris2)"
   ]
  },
  {
   "cell_type": "code",
   "execution_count": 34,
   "metadata": {
    "collapsed": false
   },
   "outputs": [
    {
     "data": {
      "text/html": [
       "<table>\n",
       "<thead><tr><th scope=col>Species</th><th scope=col>SWbar</th></tr></thead>\n",
       "<tbody>\n",
       "\t<tr><td>setosa    </td><td>3.428     </td></tr>\n",
       "\t<tr><td>versicolor</td><td>2.770     </td></tr>\n",
       "\t<tr><td>virginica </td><td>2.974     </td></tr>\n",
       "</tbody>\n",
       "</table>\n"
      ],
      "text/latex": [
       "\\begin{tabular}{r|ll}\n",
       " Species & SWbar\\\\\n",
       "\\hline\n",
       "\t setosa     & 3.428     \\\\\n",
       "\t versicolor & 2.770     \\\\\n",
       "\t virginica  & 2.974     \\\\\n",
       "\\end{tabular}\n"
      ],
      "text/markdown": [
       "\n",
       "Species | SWbar | \n",
       "|---|---|---|\n",
       "| setosa     | 3.428      | \n",
       "| versicolor | 2.770      | \n",
       "| virginica  | 2.974      | \n",
       "\n",
       "\n"
      ],
      "text/plain": [
       "  Species    SWbar\n",
       "1 setosa     3.428\n",
       "2 versicolor 2.770\n",
       "3 virginica  2.974"
      ]
     },
     "metadata": {},
     "output_type": "display_data"
    }
   ],
   "source": [
    "iris %>% group_by(Species) %>% summarize(SWbar = mean(Sepal.Width))\n",
    "\n",
    "# median()\n",
    "# var()\n",
    "# sd()\n"
   ]
  },
  {
   "cell_type": "code",
   "execution_count": 35,
   "metadata": {
    "collapsed": true
   },
   "outputs": [],
   "source": [
    "mtcars = group_by(mtcars,vs,am)"
   ]
  },
  {
   "cell_type": "code",
   "execution_count": 37,
   "metadata": {
    "collapsed": false
   },
   "outputs": [
    {
     "data": {
      "text/html": [
       "<table>\n",
       "<thead><tr><th scope=col>vs</th><th scope=col>am</th><th scope=col>mpgbar</th></tr></thead>\n",
       "<tbody>\n",
       "\t<tr><td>0       </td><td>0       </td><td>15.05000</td></tr>\n",
       "\t<tr><td>0       </td><td>1       </td><td>19.75000</td></tr>\n",
       "\t<tr><td>1       </td><td>0       </td><td>20.74286</td></tr>\n",
       "\t<tr><td>1       </td><td>1       </td><td>28.37143</td></tr>\n",
       "</tbody>\n",
       "</table>\n"
      ],
      "text/latex": [
       "\\begin{tabular}{r|lll}\n",
       " vs & am & mpgbar\\\\\n",
       "\\hline\n",
       "\t 0        & 0        & 15.05000\\\\\n",
       "\t 0        & 1        & 19.75000\\\\\n",
       "\t 1        & 0        & 20.74286\\\\\n",
       "\t 1        & 1        & 28.37143\\\\\n",
       "\\end{tabular}\n"
      ],
      "text/markdown": [
       "\n",
       "vs | am | mpgbar | \n",
       "|---|---|---|---|\n",
       "| 0        | 0        | 15.05000 | \n",
       "| 0        | 1        | 19.75000 | \n",
       "| 1        | 0        | 20.74286 | \n",
       "| 1        | 1        | 28.37143 | \n",
       "\n",
       "\n"
      ],
      "text/plain": [
       "  vs am mpgbar  \n",
       "1 0  0  15.05000\n",
       "2 0  1  19.75000\n",
       "3 1  0  20.74286\n",
       "4 1  1  28.37143"
      ]
     },
     "metadata": {},
     "output_type": "display_data"
    }
   ],
   "source": [
    "summarize(mtcars ,mpgbar = mean(mpg))"
   ]
  },
  {
   "cell_type": "code",
   "execution_count": 39,
   "metadata": {
    "collapsed": false
   },
   "outputs": [],
   "source": [
    "airquality = group_by(airquality,Month)"
   ]
  },
  {
   "cell_type": "code",
   "execution_count": 46,
   "metadata": {
    "collapsed": false
   },
   "outputs": [
    {
     "data": {
      "text/html": [
       "<table>\n",
       "<thead><tr><th scope=col>Month</th><th scope=col>meanOZ</th></tr></thead>\n",
       "<tbody>\n",
       "\t<tr><td>5       </td><td>23.61538</td></tr>\n",
       "\t<tr><td>6       </td><td>29.44444</td></tr>\n",
       "\t<tr><td>7       </td><td>59.11538</td></tr>\n",
       "\t<tr><td>8       </td><td>59.96154</td></tr>\n",
       "\t<tr><td>9       </td><td>31.44828</td></tr>\n",
       "</tbody>\n",
       "</table>\n"
      ],
      "text/latex": [
       "\\begin{tabular}{r|ll}\n",
       " Month & meanOZ\\\\\n",
       "\\hline\n",
       "\t 5        & 23.61538\\\\\n",
       "\t 6        & 29.44444\\\\\n",
       "\t 7        & 59.11538\\\\\n",
       "\t 8        & 59.96154\\\\\n",
       "\t 9        & 31.44828\\\\\n",
       "\\end{tabular}\n"
      ],
      "text/markdown": [
       "\n",
       "Month | meanOZ | \n",
       "|---|---|---|---|---|\n",
       "| 5        | 23.61538 | \n",
       "| 6        | 29.44444 | \n",
       "| 7        | 59.11538 | \n",
       "| 8        | 59.96154 | \n",
       "| 9        | 31.44828 | \n",
       "\n",
       "\n"
      ],
      "text/plain": [
       "  Month meanOZ  \n",
       "1 5     23.61538\n",
       "2 6     29.44444\n",
       "3 7     59.11538\n",
       "4 8     59.96154\n",
       "5 9     31.44828"
      ]
     },
     "metadata": {},
     "output_type": "display_data"
    }
   ],
   "source": [
    "summarize(airquality,meanOZ = mean(Ozone,na.rm=TRUE))"
   ]
  },
  {
   "cell_type": "code",
   "execution_count": 44,
   "metadata": {
    "collapsed": false
   },
   "outputs": [
    {
     "data": {
      "text/html": [
       "10"
      ],
      "text/latex": [
       "10"
      ],
      "text/markdown": [
       "10"
      ],
      "text/plain": [
       "[1] 10"
      ]
     },
     "metadata": {},
     "output_type": "display_data"
    }
   ],
   "source": [
    "x = c(9,10,11,NA)\n",
    "\n",
    "mean(x,na.rm=TRUE)"
   ]
  },
  {
   "cell_type": "code",
   "execution_count": 50,
   "metadata": {
    "collapsed": false
   },
   "outputs": [
    {
     "data": {
      "text/html": [
       "<table>\n",
       "<thead><tr><th scope=col>mpg</th><th scope=col>cyl</th><th scope=col>disp</th><th scope=col>hp</th><th scope=col>drat</th><th scope=col>wt</th><th scope=col>qsec</th><th scope=col>vs</th><th scope=col>am</th><th scope=col>gear</th><th scope=col>carb</th></tr></thead>\n",
       "<tbody>\n",
       "\t<tr><td>33.9 </td><td>4    </td><td> 71.1</td><td> 65  </td><td>4.22 </td><td>1.835</td><td>19.90</td><td>1    </td><td>1    </td><td>4    </td><td>1    </td></tr>\n",
       "\t<tr><td>32.4 </td><td>4    </td><td> 78.7</td><td> 66  </td><td>4.08 </td><td>2.200</td><td>19.47</td><td>1    </td><td>1    </td><td>4    </td><td>1    </td></tr>\n",
       "\t<tr><td>30.4 </td><td>4    </td><td> 75.7</td><td> 52  </td><td>4.93 </td><td>1.615</td><td>18.52</td><td>1    </td><td>1    </td><td>4    </td><td>2    </td></tr>\n",
       "\t<tr><td>30.4 </td><td>4    </td><td> 95.1</td><td>113  </td><td>3.77 </td><td>1.513</td><td>16.90</td><td>1    </td><td>1    </td><td>5    </td><td>2    </td></tr>\n",
       "\t<tr><td>27.3 </td><td>4    </td><td> 79.0</td><td> 66  </td><td>4.08 </td><td>1.935</td><td>18.90</td><td>1    </td><td>1    </td><td>4    </td><td>1    </td></tr>\n",
       "\t<tr><td>26.0 </td><td>4    </td><td>120.3</td><td> 91  </td><td>4.43 </td><td>2.140</td><td>16.70</td><td>0    </td><td>1    </td><td>5    </td><td>2    </td></tr>\n",
       "\t<tr><td>24.4 </td><td>4    </td><td>146.7</td><td> 62  </td><td>3.69 </td><td>3.190</td><td>20.00</td><td>1    </td><td>0    </td><td>4    </td><td>2    </td></tr>\n",
       "\t<tr><td>22.8 </td><td>4    </td><td>108.0</td><td> 93  </td><td>3.85 </td><td>2.320</td><td>18.61</td><td>1    </td><td>1    </td><td>4    </td><td>1    </td></tr>\n",
       "\t<tr><td>22.8 </td><td>4    </td><td>140.8</td><td> 95  </td><td>3.92 </td><td>3.150</td><td>22.90</td><td>1    </td><td>0    </td><td>4    </td><td>2    </td></tr>\n",
       "\t<tr><td>21.5 </td><td>4    </td><td>120.1</td><td> 97  </td><td>3.70 </td><td>2.465</td><td>20.01</td><td>1    </td><td>0    </td><td>3    </td><td>1    </td></tr>\n",
       "\t<tr><td>21.4 </td><td>6    </td><td>258.0</td><td>110  </td><td>3.08 </td><td>3.215</td><td>19.44</td><td>1    </td><td>0    </td><td>3    </td><td>1    </td></tr>\n",
       "\t<tr><td>21.4 </td><td>4    </td><td>121.0</td><td>109  </td><td>4.11 </td><td>2.780</td><td>18.60</td><td>1    </td><td>1    </td><td>4    </td><td>2    </td></tr>\n",
       "\t<tr><td>21.0 </td><td>6    </td><td>160.0</td><td>110  </td><td>3.90 </td><td>2.620</td><td>16.46</td><td>0    </td><td>1    </td><td>4    </td><td>4    </td></tr>\n",
       "\t<tr><td>21.0 </td><td>6    </td><td>160.0</td><td>110  </td><td>3.90 </td><td>2.875</td><td>17.02</td><td>0    </td><td>1    </td><td>4    </td><td>4    </td></tr>\n",
       "\t<tr><td>19.7 </td><td>6    </td><td>145.0</td><td>175  </td><td>3.62 </td><td>2.770</td><td>15.50</td><td>0    </td><td>1    </td><td>5    </td><td>6    </td></tr>\n",
       "\t<tr><td>19.2 </td><td>6    </td><td>167.6</td><td>123  </td><td>3.92 </td><td>3.440</td><td>18.30</td><td>1    </td><td>0    </td><td>4    </td><td>4    </td></tr>\n",
       "\t<tr><td>19.2 </td><td>8    </td><td>400.0</td><td>175  </td><td>3.08 </td><td>3.845</td><td>17.05</td><td>0    </td><td>0    </td><td>3    </td><td>2    </td></tr>\n",
       "\t<tr><td>18.7 </td><td>8    </td><td>360.0</td><td>175  </td><td>3.15 </td><td>3.440</td><td>17.02</td><td>0    </td><td>0    </td><td>3    </td><td>2    </td></tr>\n",
       "\t<tr><td>18.1 </td><td>6    </td><td>225.0</td><td>105  </td><td>2.76 </td><td>3.460</td><td>20.22</td><td>1    </td><td>0    </td><td>3    </td><td>1    </td></tr>\n",
       "\t<tr><td>17.8 </td><td>6    </td><td>167.6</td><td>123  </td><td>3.92 </td><td>3.440</td><td>18.90</td><td>1    </td><td>0    </td><td>4    </td><td>4    </td></tr>\n",
       "\t<tr><td>17.3 </td><td>8    </td><td>275.8</td><td>180  </td><td>3.07 </td><td>3.730</td><td>17.60</td><td>0    </td><td>0    </td><td>3    </td><td>3    </td></tr>\n",
       "\t<tr><td>16.4 </td><td>8    </td><td>275.8</td><td>180  </td><td>3.07 </td><td>4.070</td><td>17.40</td><td>0    </td><td>0    </td><td>3    </td><td>3    </td></tr>\n",
       "\t<tr><td>15.8 </td><td>8    </td><td>351.0</td><td>264  </td><td>4.22 </td><td>3.170</td><td>14.50</td><td>0    </td><td>1    </td><td>5    </td><td>4    </td></tr>\n",
       "\t<tr><td>15.5 </td><td>8    </td><td>318.0</td><td>150  </td><td>2.76 </td><td>3.520</td><td>16.87</td><td>0    </td><td>0    </td><td>3    </td><td>2    </td></tr>\n",
       "\t<tr><td>15.2 </td><td>8    </td><td>275.8</td><td>180  </td><td>3.07 </td><td>3.780</td><td>18.00</td><td>0    </td><td>0    </td><td>3    </td><td>3    </td></tr>\n",
       "\t<tr><td>15.2 </td><td>8    </td><td>304.0</td><td>150  </td><td>3.15 </td><td>3.435</td><td>17.30</td><td>0    </td><td>0    </td><td>3    </td><td>2    </td></tr>\n",
       "\t<tr><td>15.0 </td><td>8    </td><td>301.0</td><td>335  </td><td>3.54 </td><td>3.570</td><td>14.60</td><td>0    </td><td>1    </td><td>5    </td><td>8    </td></tr>\n",
       "\t<tr><td>14.7 </td><td>8    </td><td>440.0</td><td>230  </td><td>3.23 </td><td>5.345</td><td>17.42</td><td>0    </td><td>0    </td><td>3    </td><td>4    </td></tr>\n",
       "\t<tr><td>14.3 </td><td>8    </td><td>360.0</td><td>245  </td><td>3.21 </td><td>3.570</td><td>15.84</td><td>0    </td><td>0    </td><td>3    </td><td>4    </td></tr>\n",
       "\t<tr><td>13.3 </td><td>8    </td><td>350.0</td><td>245  </td><td>3.73 </td><td>3.840</td><td>15.41</td><td>0    </td><td>0    </td><td>3    </td><td>4    </td></tr>\n",
       "\t<tr><td>10.4 </td><td>8    </td><td>472.0</td><td>205  </td><td>2.93 </td><td>5.250</td><td>17.98</td><td>0    </td><td>0    </td><td>3    </td><td>4    </td></tr>\n",
       "\t<tr><td>10.4 </td><td>8    </td><td>460.0</td><td>215  </td><td>3.00 </td><td>5.424</td><td>17.82</td><td>0    </td><td>0    </td><td>3    </td><td>4    </td></tr>\n",
       "</tbody>\n",
       "</table>\n"
      ],
      "text/latex": [
       "\\begin{tabular}{r|lllllllllll}\n",
       " mpg & cyl & disp & hp & drat & wt & qsec & vs & am & gear & carb\\\\\n",
       "\\hline\n",
       "\t 33.9  & 4     &  71.1 &  65   & 4.22  & 1.835 & 19.90 & 1     & 1     & 4     & 1    \\\\\n",
       "\t 32.4  & 4     &  78.7 &  66   & 4.08  & 2.200 & 19.47 & 1     & 1     & 4     & 1    \\\\\n",
       "\t 30.4  & 4     &  75.7 &  52   & 4.93  & 1.615 & 18.52 & 1     & 1     & 4     & 2    \\\\\n",
       "\t 30.4  & 4     &  95.1 & 113   & 3.77  & 1.513 & 16.90 & 1     & 1     & 5     & 2    \\\\\n",
       "\t 27.3  & 4     &  79.0 &  66   & 4.08  & 1.935 & 18.90 & 1     & 1     & 4     & 1    \\\\\n",
       "\t 26.0  & 4     & 120.3 &  91   & 4.43  & 2.140 & 16.70 & 0     & 1     & 5     & 2    \\\\\n",
       "\t 24.4  & 4     & 146.7 &  62   & 3.69  & 3.190 & 20.00 & 1     & 0     & 4     & 2    \\\\\n",
       "\t 22.8  & 4     & 108.0 &  93   & 3.85  & 2.320 & 18.61 & 1     & 1     & 4     & 1    \\\\\n",
       "\t 22.8  & 4     & 140.8 &  95   & 3.92  & 3.150 & 22.90 & 1     & 0     & 4     & 2    \\\\\n",
       "\t 21.5  & 4     & 120.1 &  97   & 3.70  & 2.465 & 20.01 & 1     & 0     & 3     & 1    \\\\\n",
       "\t 21.4  & 6     & 258.0 & 110   & 3.08  & 3.215 & 19.44 & 1     & 0     & 3     & 1    \\\\\n",
       "\t 21.4  & 4     & 121.0 & 109   & 4.11  & 2.780 & 18.60 & 1     & 1     & 4     & 2    \\\\\n",
       "\t 21.0  & 6     & 160.0 & 110   & 3.90  & 2.620 & 16.46 & 0     & 1     & 4     & 4    \\\\\n",
       "\t 21.0  & 6     & 160.0 & 110   & 3.90  & 2.875 & 17.02 & 0     & 1     & 4     & 4    \\\\\n",
       "\t 19.7  & 6     & 145.0 & 175   & 3.62  & 2.770 & 15.50 & 0     & 1     & 5     & 6    \\\\\n",
       "\t 19.2  & 6     & 167.6 & 123   & 3.92  & 3.440 & 18.30 & 1     & 0     & 4     & 4    \\\\\n",
       "\t 19.2  & 8     & 400.0 & 175   & 3.08  & 3.845 & 17.05 & 0     & 0     & 3     & 2    \\\\\n",
       "\t 18.7  & 8     & 360.0 & 175   & 3.15  & 3.440 & 17.02 & 0     & 0     & 3     & 2    \\\\\n",
       "\t 18.1  & 6     & 225.0 & 105   & 2.76  & 3.460 & 20.22 & 1     & 0     & 3     & 1    \\\\\n",
       "\t 17.8  & 6     & 167.6 & 123   & 3.92  & 3.440 & 18.90 & 1     & 0     & 4     & 4    \\\\\n",
       "\t 17.3  & 8     & 275.8 & 180   & 3.07  & 3.730 & 17.60 & 0     & 0     & 3     & 3    \\\\\n",
       "\t 16.4  & 8     & 275.8 & 180   & 3.07  & 4.070 & 17.40 & 0     & 0     & 3     & 3    \\\\\n",
       "\t 15.8  & 8     & 351.0 & 264   & 4.22  & 3.170 & 14.50 & 0     & 1     & 5     & 4    \\\\\n",
       "\t 15.5  & 8     & 318.0 & 150   & 2.76  & 3.520 & 16.87 & 0     & 0     & 3     & 2    \\\\\n",
       "\t 15.2  & 8     & 275.8 & 180   & 3.07  & 3.780 & 18.00 & 0     & 0     & 3     & 3    \\\\\n",
       "\t 15.2  & 8     & 304.0 & 150   & 3.15  & 3.435 & 17.30 & 0     & 0     & 3     & 2    \\\\\n",
       "\t 15.0  & 8     & 301.0 & 335   & 3.54  & 3.570 & 14.60 & 0     & 1     & 5     & 8    \\\\\n",
       "\t 14.7  & 8     & 440.0 & 230   & 3.23  & 5.345 & 17.42 & 0     & 0     & 3     & 4    \\\\\n",
       "\t 14.3  & 8     & 360.0 & 245   & 3.21  & 3.570 & 15.84 & 0     & 0     & 3     & 4    \\\\\n",
       "\t 13.3  & 8     & 350.0 & 245   & 3.73  & 3.840 & 15.41 & 0     & 0     & 3     & 4    \\\\\n",
       "\t 10.4  & 8     & 472.0 & 205   & 2.93  & 5.250 & 17.98 & 0     & 0     & 3     & 4    \\\\\n",
       "\t 10.4  & 8     & 460.0 & 215   & 3.00  & 5.424 & 17.82 & 0     & 0     & 3     & 4    \\\\\n",
       "\\end{tabular}\n"
      ],
      "text/markdown": [
       "\n",
       "mpg | cyl | disp | hp | drat | wt | qsec | vs | am | gear | carb | \n",
       "|---|---|---|---|---|---|---|---|---|---|---|---|---|---|---|---|---|---|---|---|---|---|---|---|---|---|---|---|---|---|---|---|\n",
       "| 33.9  | 4     |  71.1 |  65   | 4.22  | 1.835 | 19.90 | 1     | 1     | 4     | 1     | \n",
       "| 32.4  | 4     |  78.7 |  66   | 4.08  | 2.200 | 19.47 | 1     | 1     | 4     | 1     | \n",
       "| 30.4  | 4     |  75.7 |  52   | 4.93  | 1.615 | 18.52 | 1     | 1     | 4     | 2     | \n",
       "| 30.4  | 4     |  95.1 | 113   | 3.77  | 1.513 | 16.90 | 1     | 1     | 5     | 2     | \n",
       "| 27.3  | 4     |  79.0 |  66   | 4.08  | 1.935 | 18.90 | 1     | 1     | 4     | 1     | \n",
       "| 26.0  | 4     | 120.3 |  91   | 4.43  | 2.140 | 16.70 | 0     | 1     | 5     | 2     | \n",
       "| 24.4  | 4     | 146.7 |  62   | 3.69  | 3.190 | 20.00 | 1     | 0     | 4     | 2     | \n",
       "| 22.8  | 4     | 108.0 |  93   | 3.85  | 2.320 | 18.61 | 1     | 1     | 4     | 1     | \n",
       "| 22.8  | 4     | 140.8 |  95   | 3.92  | 3.150 | 22.90 | 1     | 0     | 4     | 2     | \n",
       "| 21.5  | 4     | 120.1 |  97   | 3.70  | 2.465 | 20.01 | 1     | 0     | 3     | 1     | \n",
       "| 21.4  | 6     | 258.0 | 110   | 3.08  | 3.215 | 19.44 | 1     | 0     | 3     | 1     | \n",
       "| 21.4  | 4     | 121.0 | 109   | 4.11  | 2.780 | 18.60 | 1     | 1     | 4     | 2     | \n",
       "| 21.0  | 6     | 160.0 | 110   | 3.90  | 2.620 | 16.46 | 0     | 1     | 4     | 4     | \n",
       "| 21.0  | 6     | 160.0 | 110   | 3.90  | 2.875 | 17.02 | 0     | 1     | 4     | 4     | \n",
       "| 19.7  | 6     | 145.0 | 175   | 3.62  | 2.770 | 15.50 | 0     | 1     | 5     | 6     | \n",
       "| 19.2  | 6     | 167.6 | 123   | 3.92  | 3.440 | 18.30 | 1     | 0     | 4     | 4     | \n",
       "| 19.2  | 8     | 400.0 | 175   | 3.08  | 3.845 | 17.05 | 0     | 0     | 3     | 2     | \n",
       "| 18.7  | 8     | 360.0 | 175   | 3.15  | 3.440 | 17.02 | 0     | 0     | 3     | 2     | \n",
       "| 18.1  | 6     | 225.0 | 105   | 2.76  | 3.460 | 20.22 | 1     | 0     | 3     | 1     | \n",
       "| 17.8  | 6     | 167.6 | 123   | 3.92  | 3.440 | 18.90 | 1     | 0     | 4     | 4     | \n",
       "| 17.3  | 8     | 275.8 | 180   | 3.07  | 3.730 | 17.60 | 0     | 0     | 3     | 3     | \n",
       "| 16.4  | 8     | 275.8 | 180   | 3.07  | 4.070 | 17.40 | 0     | 0     | 3     | 3     | \n",
       "| 15.8  | 8     | 351.0 | 264   | 4.22  | 3.170 | 14.50 | 0     | 1     | 5     | 4     | \n",
       "| 15.5  | 8     | 318.0 | 150   | 2.76  | 3.520 | 16.87 | 0     | 0     | 3     | 2     | \n",
       "| 15.2  | 8     | 275.8 | 180   | 3.07  | 3.780 | 18.00 | 0     | 0     | 3     | 3     | \n",
       "| 15.2  | 8     | 304.0 | 150   | 3.15  | 3.435 | 17.30 | 0     | 0     | 3     | 2     | \n",
       "| 15.0  | 8     | 301.0 | 335   | 3.54  | 3.570 | 14.60 | 0     | 1     | 5     | 8     | \n",
       "| 14.7  | 8     | 440.0 | 230   | 3.23  | 5.345 | 17.42 | 0     | 0     | 3     | 4     | \n",
       "| 14.3  | 8     | 360.0 | 245   | 3.21  | 3.570 | 15.84 | 0     | 0     | 3     | 4     | \n",
       "| 13.3  | 8     | 350.0 | 245   | 3.73  | 3.840 | 15.41 | 0     | 0     | 3     | 4     | \n",
       "| 10.4  | 8     | 472.0 | 205   | 2.93  | 5.250 | 17.98 | 0     | 0     | 3     | 4     | \n",
       "| 10.4  | 8     | 460.0 | 215   | 3.00  | 5.424 | 17.82 | 0     | 0     | 3     | 4     | \n",
       "\n",
       "\n"
      ],
      "text/plain": [
       "   mpg  cyl disp  hp  drat wt    qsec  vs am gear carb\n",
       "1  33.9 4    71.1  65 4.22 1.835 19.90 1  1  4    1   \n",
       "2  32.4 4    78.7  66 4.08 2.200 19.47 1  1  4    1   \n",
       "3  30.4 4    75.7  52 4.93 1.615 18.52 1  1  4    2   \n",
       "4  30.4 4    95.1 113 3.77 1.513 16.90 1  1  5    2   \n",
       "5  27.3 4    79.0  66 4.08 1.935 18.90 1  1  4    1   \n",
       "6  26.0 4   120.3  91 4.43 2.140 16.70 0  1  5    2   \n",
       "7  24.4 4   146.7  62 3.69 3.190 20.00 1  0  4    2   \n",
       "8  22.8 4   108.0  93 3.85 2.320 18.61 1  1  4    1   \n",
       "9  22.8 4   140.8  95 3.92 3.150 22.90 1  0  4    2   \n",
       "10 21.5 4   120.1  97 3.70 2.465 20.01 1  0  3    1   \n",
       "11 21.4 6   258.0 110 3.08 3.215 19.44 1  0  3    1   \n",
       "12 21.4 4   121.0 109 4.11 2.780 18.60 1  1  4    2   \n",
       "13 21.0 6   160.0 110 3.90 2.620 16.46 0  1  4    4   \n",
       "14 21.0 6   160.0 110 3.90 2.875 17.02 0  1  4    4   \n",
       "15 19.7 6   145.0 175 3.62 2.770 15.50 0  1  5    6   \n",
       "16 19.2 6   167.6 123 3.92 3.440 18.30 1  0  4    4   \n",
       "17 19.2 8   400.0 175 3.08 3.845 17.05 0  0  3    2   \n",
       "18 18.7 8   360.0 175 3.15 3.440 17.02 0  0  3    2   \n",
       "19 18.1 6   225.0 105 2.76 3.460 20.22 1  0  3    1   \n",
       "20 17.8 6   167.6 123 3.92 3.440 18.90 1  0  4    4   \n",
       "21 17.3 8   275.8 180 3.07 3.730 17.60 0  0  3    3   \n",
       "22 16.4 8   275.8 180 3.07 4.070 17.40 0  0  3    3   \n",
       "23 15.8 8   351.0 264 4.22 3.170 14.50 0  1  5    4   \n",
       "24 15.5 8   318.0 150 2.76 3.520 16.87 0  0  3    2   \n",
       "25 15.2 8   275.8 180 3.07 3.780 18.00 0  0  3    3   \n",
       "26 15.2 8   304.0 150 3.15 3.435 17.30 0  0  3    2   \n",
       "27 15.0 8   301.0 335 3.54 3.570 14.60 0  1  5    8   \n",
       "28 14.7 8   440.0 230 3.23 5.345 17.42 0  0  3    4   \n",
       "29 14.3 8   360.0 245 3.21 3.570 15.84 0  0  3    4   \n",
       "30 13.3 8   350.0 245 3.73 3.840 15.41 0  0  3    4   \n",
       "31 10.4 8   472.0 205 2.93 5.250 17.98 0  0  3    4   \n",
       "32 10.4 8   460.0 215 3.00 5.424 17.82 0  0  3    4   "
      ]
     },
     "metadata": {},
     "output_type": "display_data"
    }
   ],
   "source": [
    "arrange(mtcars,-mpg)"
   ]
  },
  {
   "cell_type": "code",
   "execution_count": 53,
   "metadata": {
    "collapsed": false
   },
   "outputs": [],
   "source": [
    "# CARRATIO = mpg/wt\n",
    "\n",
    "mt2 = mutate(mtcars,CARRATIO =mpg/wt)"
   ]
  },
  {
   "cell_type": "code",
   "execution_count": 56,
   "metadata": {
    "collapsed": false
   },
   "outputs": [
    {
     "data": {
      "text/html": [
       "<table>\n",
       "<thead><tr><th scope=col>wt</th><th scope=col>qsec</th><th scope=col>vs</th><th scope=col>am</th><th scope=col>gear</th><th scope=col>carb</th><th scope=col>CARRATIO</th></tr></thead>\n",
       "<tbody>\n",
       "\t<tr><td>2.620    </td><td>16.46    </td><td>0        </td><td>1        </td><td>4        </td><td>4        </td><td> 8.015267</td></tr>\n",
       "\t<tr><td>2.875    </td><td>17.02    </td><td>0        </td><td>1        </td><td>4        </td><td>4        </td><td> 7.304348</td></tr>\n",
       "\t<tr><td>2.320    </td><td>18.61    </td><td>1        </td><td>1        </td><td>4        </td><td>1        </td><td> 9.827586</td></tr>\n",
       "\t<tr><td>3.215    </td><td>19.44    </td><td>1        </td><td>0        </td><td>3        </td><td>1        </td><td> 6.656299</td></tr>\n",
       "\t<tr><td>3.440    </td><td>17.02    </td><td>0        </td><td>0        </td><td>3        </td><td>2        </td><td> 5.436047</td></tr>\n",
       "\t<tr><td>3.460    </td><td>20.22    </td><td>1        </td><td>0        </td><td>3        </td><td>1        </td><td> 5.231214</td></tr>\n",
       "\t<tr><td>3.570    </td><td>15.84    </td><td>0        </td><td>0        </td><td>3        </td><td>4        </td><td> 4.005602</td></tr>\n",
       "\t<tr><td>3.190    </td><td>20.00    </td><td>1        </td><td>0        </td><td>4        </td><td>2        </td><td> 7.648903</td></tr>\n",
       "\t<tr><td>3.150    </td><td>22.90    </td><td>1        </td><td>0        </td><td>4        </td><td>2        </td><td> 7.238095</td></tr>\n",
       "\t<tr><td>3.440    </td><td>18.30    </td><td>1        </td><td>0        </td><td>4        </td><td>4        </td><td> 5.581395</td></tr>\n",
       "\t<tr><td>3.440    </td><td>18.90    </td><td>1        </td><td>0        </td><td>4        </td><td>4        </td><td> 5.174419</td></tr>\n",
       "\t<tr><td>4.070    </td><td>17.40    </td><td>0        </td><td>0        </td><td>3        </td><td>3        </td><td> 4.029484</td></tr>\n",
       "\t<tr><td>3.730    </td><td>17.60    </td><td>0        </td><td>0        </td><td>3        </td><td>3        </td><td> 4.638070</td></tr>\n",
       "\t<tr><td>3.780    </td><td>18.00    </td><td>0        </td><td>0        </td><td>3        </td><td>3        </td><td> 4.021164</td></tr>\n",
       "\t<tr><td>5.250    </td><td>17.98    </td><td>0        </td><td>0        </td><td>3        </td><td>4        </td><td> 1.980952</td></tr>\n",
       "\t<tr><td>5.424    </td><td>17.82    </td><td>0        </td><td>0        </td><td>3        </td><td>4        </td><td> 1.917404</td></tr>\n",
       "\t<tr><td>5.345    </td><td>17.42    </td><td>0        </td><td>0        </td><td>3        </td><td>4        </td><td> 2.750234</td></tr>\n",
       "\t<tr><td>2.200    </td><td>19.47    </td><td>1        </td><td>1        </td><td>4        </td><td>1        </td><td>14.727273</td></tr>\n",
       "\t<tr><td>1.615    </td><td>18.52    </td><td>1        </td><td>1        </td><td>4        </td><td>2        </td><td>18.823529</td></tr>\n",
       "\t<tr><td>1.835    </td><td>19.90    </td><td>1        </td><td>1        </td><td>4        </td><td>1        </td><td>18.474114</td></tr>\n",
       "\t<tr><td>2.465    </td><td>20.01    </td><td>1        </td><td>0        </td><td>3        </td><td>1        </td><td> 8.722110</td></tr>\n",
       "\t<tr><td>3.520    </td><td>16.87    </td><td>0        </td><td>0        </td><td>3        </td><td>2        </td><td> 4.403409</td></tr>\n",
       "\t<tr><td>3.435    </td><td>17.30    </td><td>0        </td><td>0        </td><td>3        </td><td>2        </td><td> 4.425036</td></tr>\n",
       "\t<tr><td>3.840    </td><td>15.41    </td><td>0        </td><td>0        </td><td>3        </td><td>4        </td><td> 3.463542</td></tr>\n",
       "\t<tr><td>3.845    </td><td>17.05    </td><td>0        </td><td>0        </td><td>3        </td><td>2        </td><td> 4.993498</td></tr>\n",
       "\t<tr><td>1.935    </td><td>18.90    </td><td>1        </td><td>1        </td><td>4        </td><td>1        </td><td>14.108527</td></tr>\n",
       "\t<tr><td>2.140    </td><td>16.70    </td><td>0        </td><td>1        </td><td>5        </td><td>2        </td><td>12.149533</td></tr>\n",
       "\t<tr><td>1.513    </td><td>16.90    </td><td>1        </td><td>1        </td><td>5        </td><td>2        </td><td>20.092531</td></tr>\n",
       "\t<tr><td>3.170    </td><td>14.50    </td><td>0        </td><td>1        </td><td>5        </td><td>4        </td><td> 4.984227</td></tr>\n",
       "\t<tr><td>2.770    </td><td>15.50    </td><td>0        </td><td>1        </td><td>5        </td><td>6        </td><td> 7.111913</td></tr>\n",
       "\t<tr><td>3.570    </td><td>14.60    </td><td>0        </td><td>1        </td><td>5        </td><td>8        </td><td> 4.201681</td></tr>\n",
       "\t<tr><td>2.780    </td><td>18.60    </td><td>1        </td><td>1        </td><td>4        </td><td>2        </td><td> 7.697842</td></tr>\n",
       "</tbody>\n",
       "</table>\n"
      ],
      "text/latex": [
       "\\begin{tabular}{r|lllllll}\n",
       " wt & qsec & vs & am & gear & carb & CARRATIO\\\\\n",
       "\\hline\n",
       "\t 2.620     & 16.46     & 0         & 1         & 4         & 4         &  8.015267\\\\\n",
       "\t 2.875     & 17.02     & 0         & 1         & 4         & 4         &  7.304348\\\\\n",
       "\t 2.320     & 18.61     & 1         & 1         & 4         & 1         &  9.827586\\\\\n",
       "\t 3.215     & 19.44     & 1         & 0         & 3         & 1         &  6.656299\\\\\n",
       "\t 3.440     & 17.02     & 0         & 0         & 3         & 2         &  5.436047\\\\\n",
       "\t 3.460     & 20.22     & 1         & 0         & 3         & 1         &  5.231214\\\\\n",
       "\t 3.570     & 15.84     & 0         & 0         & 3         & 4         &  4.005602\\\\\n",
       "\t 3.190     & 20.00     & 1         & 0         & 4         & 2         &  7.648903\\\\\n",
       "\t 3.150     & 22.90     & 1         & 0         & 4         & 2         &  7.238095\\\\\n",
       "\t 3.440     & 18.30     & 1         & 0         & 4         & 4         &  5.581395\\\\\n",
       "\t 3.440     & 18.90     & 1         & 0         & 4         & 4         &  5.174419\\\\\n",
       "\t 4.070     & 17.40     & 0         & 0         & 3         & 3         &  4.029484\\\\\n",
       "\t 3.730     & 17.60     & 0         & 0         & 3         & 3         &  4.638070\\\\\n",
       "\t 3.780     & 18.00     & 0         & 0         & 3         & 3         &  4.021164\\\\\n",
       "\t 5.250     & 17.98     & 0         & 0         & 3         & 4         &  1.980952\\\\\n",
       "\t 5.424     & 17.82     & 0         & 0         & 3         & 4         &  1.917404\\\\\n",
       "\t 5.345     & 17.42     & 0         & 0         & 3         & 4         &  2.750234\\\\\n",
       "\t 2.200     & 19.47     & 1         & 1         & 4         & 1         & 14.727273\\\\\n",
       "\t 1.615     & 18.52     & 1         & 1         & 4         & 2         & 18.823529\\\\\n",
       "\t 1.835     & 19.90     & 1         & 1         & 4         & 1         & 18.474114\\\\\n",
       "\t 2.465     & 20.01     & 1         & 0         & 3         & 1         &  8.722110\\\\\n",
       "\t 3.520     & 16.87     & 0         & 0         & 3         & 2         &  4.403409\\\\\n",
       "\t 3.435     & 17.30     & 0         & 0         & 3         & 2         &  4.425036\\\\\n",
       "\t 3.840     & 15.41     & 0         & 0         & 3         & 4         &  3.463542\\\\\n",
       "\t 3.845     & 17.05     & 0         & 0         & 3         & 2         &  4.993498\\\\\n",
       "\t 1.935     & 18.90     & 1         & 1         & 4         & 1         & 14.108527\\\\\n",
       "\t 2.140     & 16.70     & 0         & 1         & 5         & 2         & 12.149533\\\\\n",
       "\t 1.513     & 16.90     & 1         & 1         & 5         & 2         & 20.092531\\\\\n",
       "\t 3.170     & 14.50     & 0         & 1         & 5         & 4         &  4.984227\\\\\n",
       "\t 2.770     & 15.50     & 0         & 1         & 5         & 6         &  7.111913\\\\\n",
       "\t 3.570     & 14.60     & 0         & 1         & 5         & 8         &  4.201681\\\\\n",
       "\t 2.780     & 18.60     & 1         & 1         & 4         & 2         &  7.697842\\\\\n",
       "\\end{tabular}\n"
      ],
      "text/markdown": [
       "\n",
       "wt | qsec | vs | am | gear | carb | CARRATIO | \n",
       "|---|---|---|---|---|---|---|---|---|---|---|---|---|---|---|---|---|---|---|---|---|---|---|---|---|---|---|---|---|---|---|---|\n",
       "| 2.620     | 16.46     | 0         | 1         | 4         | 4         |  8.015267 | \n",
       "| 2.875     | 17.02     | 0         | 1         | 4         | 4         |  7.304348 | \n",
       "| 2.320     | 18.61     | 1         | 1         | 4         | 1         |  9.827586 | \n",
       "| 3.215     | 19.44     | 1         | 0         | 3         | 1         |  6.656299 | \n",
       "| 3.440     | 17.02     | 0         | 0         | 3         | 2         |  5.436047 | \n",
       "| 3.460     | 20.22     | 1         | 0         | 3         | 1         |  5.231214 | \n",
       "| 3.570     | 15.84     | 0         | 0         | 3         | 4         |  4.005602 | \n",
       "| 3.190     | 20.00     | 1         | 0         | 4         | 2         |  7.648903 | \n",
       "| 3.150     | 22.90     | 1         | 0         | 4         | 2         |  7.238095 | \n",
       "| 3.440     | 18.30     | 1         | 0         | 4         | 4         |  5.581395 | \n",
       "| 3.440     | 18.90     | 1         | 0         | 4         | 4         |  5.174419 | \n",
       "| 4.070     | 17.40     | 0         | 0         | 3         | 3         |  4.029484 | \n",
       "| 3.730     | 17.60     | 0         | 0         | 3         | 3         |  4.638070 | \n",
       "| 3.780     | 18.00     | 0         | 0         | 3         | 3         |  4.021164 | \n",
       "| 5.250     | 17.98     | 0         | 0         | 3         | 4         |  1.980952 | \n",
       "| 5.424     | 17.82     | 0         | 0         | 3         | 4         |  1.917404 | \n",
       "| 5.345     | 17.42     | 0         | 0         | 3         | 4         |  2.750234 | \n",
       "| 2.200     | 19.47     | 1         | 1         | 4         | 1         | 14.727273 | \n",
       "| 1.615     | 18.52     | 1         | 1         | 4         | 2         | 18.823529 | \n",
       "| 1.835     | 19.90     | 1         | 1         | 4         | 1         | 18.474114 | \n",
       "| 2.465     | 20.01     | 1         | 0         | 3         | 1         |  8.722110 | \n",
       "| 3.520     | 16.87     | 0         | 0         | 3         | 2         |  4.403409 | \n",
       "| 3.435     | 17.30     | 0         | 0         | 3         | 2         |  4.425036 | \n",
       "| 3.840     | 15.41     | 0         | 0         | 3         | 4         |  3.463542 | \n",
       "| 3.845     | 17.05     | 0         | 0         | 3         | 2         |  4.993498 | \n",
       "| 1.935     | 18.90     | 1         | 1         | 4         | 1         | 14.108527 | \n",
       "| 2.140     | 16.70     | 0         | 1         | 5         | 2         | 12.149533 | \n",
       "| 1.513     | 16.90     | 1         | 1         | 5         | 2         | 20.092531 | \n",
       "| 3.170     | 14.50     | 0         | 1         | 5         | 4         |  4.984227 | \n",
       "| 2.770     | 15.50     | 0         | 1         | 5         | 6         |  7.111913 | \n",
       "| 3.570     | 14.60     | 0         | 1         | 5         | 8         |  4.201681 | \n",
       "| 2.780     | 18.60     | 1         | 1         | 4         | 2         |  7.697842 | \n",
       "\n",
       "\n"
      ],
      "text/plain": [
       "   wt    qsec  vs am gear carb CARRATIO \n",
       "1  2.620 16.46 0  1  4    4     8.015267\n",
       "2  2.875 17.02 0  1  4    4     7.304348\n",
       "3  2.320 18.61 1  1  4    1     9.827586\n",
       "4  3.215 19.44 1  0  3    1     6.656299\n",
       "5  3.440 17.02 0  0  3    2     5.436047\n",
       "6  3.460 20.22 1  0  3    1     5.231214\n",
       "7  3.570 15.84 0  0  3    4     4.005602\n",
       "8  3.190 20.00 1  0  4    2     7.648903\n",
       "9  3.150 22.90 1  0  4    2     7.238095\n",
       "10 3.440 18.30 1  0  4    4     5.581395\n",
       "11 3.440 18.90 1  0  4    4     5.174419\n",
       "12 4.070 17.40 0  0  3    3     4.029484\n",
       "13 3.730 17.60 0  0  3    3     4.638070\n",
       "14 3.780 18.00 0  0  3    3     4.021164\n",
       "15 5.250 17.98 0  0  3    4     1.980952\n",
       "16 5.424 17.82 0  0  3    4     1.917404\n",
       "17 5.345 17.42 0  0  3    4     2.750234\n",
       "18 2.200 19.47 1  1  4    1    14.727273\n",
       "19 1.615 18.52 1  1  4    2    18.823529\n",
       "20 1.835 19.90 1  1  4    1    18.474114\n",
       "21 2.465 20.01 1  0  3    1     8.722110\n",
       "22 3.520 16.87 0  0  3    2     4.403409\n",
       "23 3.435 17.30 0  0  3    2     4.425036\n",
       "24 3.840 15.41 0  0  3    4     3.463542\n",
       "25 3.845 17.05 0  0  3    2     4.993498\n",
       "26 1.935 18.90 1  1  4    1    14.108527\n",
       "27 2.140 16.70 0  1  5    2    12.149533\n",
       "28 1.513 16.90 1  1  5    2    20.092531\n",
       "29 3.170 14.50 0  1  5    4     4.984227\n",
       "30 2.770 15.50 0  1  5    6     7.111913\n",
       "31 3.570 14.60 0  1  5    8     4.201681\n",
       "32 2.780 18.60 1  1  4    2     7.697842"
      ]
     },
     "metadata": {},
     "output_type": "display_data"
    }
   ],
   "source": [
    "select(mt2,6:ncol(mt2))"
   ]
  },
  {
   "cell_type": "code",
   "execution_count": 57,
   "metadata": {
    "collapsed": false
   },
   "outputs": [
    {
     "data": {
      "text/html": [
       "<ol class=list-inline>\n",
       "\t<li>6</li>\n",
       "\t<li>7</li>\n",
       "\t<li>8</li>\n",
       "\t<li>9</li>\n",
       "\t<li>10</li>\n",
       "\t<li>11</li>\n",
       "\t<li>12</li>\n",
       "</ol>\n"
      ],
      "text/latex": [
       "\\begin{enumerate*}\n",
       "\\item 6\n",
       "\\item 7\n",
       "\\item 8\n",
       "\\item 9\n",
       "\\item 10\n",
       "\\item 11\n",
       "\\item 12\n",
       "\\end{enumerate*}\n"
      ],
      "text/markdown": [
       "1. 6\n",
       "2. 7\n",
       "3. 8\n",
       "4. 9\n",
       "5. 10\n",
       "6. 11\n",
       "7. 12\n",
       "\n",
       "\n"
      ],
      "text/plain": [
       "[1]  6  7  8  9 10 11 12"
      ]
     },
     "metadata": {},
     "output_type": "display_data"
    }
   ],
   "source": [
    "6:ncol(mt2)"
   ]
  },
  {
   "cell_type": "code",
   "execution_count": 58,
   "metadata": {
    "collapsed": true
   },
   "outputs": [],
   "source": [
    "library(nycflights13)"
   ]
  },
  {
   "cell_type": "code",
   "execution_count": 59,
   "metadata": {
    "collapsed": true
   },
   "outputs": [],
   "source": [
    "library(ggplot2)"
   ]
  },
  {
   "cell_type": "code",
   "execution_count": 60,
   "metadata": {
    "collapsed": true
   },
   "outputs": [],
   "source": [
    "data(diamonds)"
   ]
  },
  {
   "cell_type": "code",
   "execution_count": 62,
   "metadata": {
    "collapsed": false
   },
   "outputs": [
    {
     "data": {
      "text/html": [
       "<ol class=list-inline>\n",
       "\t<li>53940</li>\n",
       "\t<li>10</li>\n",
       "</ol>\n"
      ],
      "text/latex": [
       "\\begin{enumerate*}\n",
       "\\item 53940\n",
       "\\item 10\n",
       "\\end{enumerate*}\n"
      ],
      "text/markdown": [
       "1. 53940\n",
       "2. 10\n",
       "\n",
       "\n"
      ],
      "text/plain": [
       "[1] 53940    10"
      ]
     },
     "metadata": {},
     "output_type": "display_data"
    }
   ],
   "source": [
    "dim(diamonds)"
   ]
  },
  {
   "cell_type": "code",
   "execution_count": 63,
   "metadata": {
    "collapsed": false
   },
   "outputs": [
    {
     "data": {
      "text/html": [
       "<table>\n",
       "<thead><tr><th scope=col>carat</th><th scope=col>cut</th><th scope=col>color</th><th scope=col>clarity</th><th scope=col>depth</th><th scope=col>table</th><th scope=col>price</th><th scope=col>x</th><th scope=col>y</th><th scope=col>z</th></tr></thead>\n",
       "<tbody>\n",
       "\t<tr><td>0.23     </td><td>Ideal    </td><td>E        </td><td>SI2      </td><td>61.5     </td><td>55       </td><td>326      </td><td>3.95     </td><td>3.98     </td><td>2.43     </td></tr>\n",
       "\t<tr><td>0.21     </td><td>Premium  </td><td>E        </td><td>SI1      </td><td>59.8     </td><td>61       </td><td>326      </td><td>3.89     </td><td>3.84     </td><td>2.31     </td></tr>\n",
       "\t<tr><td>0.23     </td><td>Good     </td><td>E        </td><td>VS1      </td><td>56.9     </td><td>65       </td><td>327      </td><td>4.05     </td><td>4.07     </td><td>2.31     </td></tr>\n",
       "\t<tr><td>0.29     </td><td>Premium  </td><td>I        </td><td>VS2      </td><td>62.4     </td><td>58       </td><td>334      </td><td>4.20     </td><td>4.23     </td><td>2.63     </td></tr>\n",
       "\t<tr><td>0.31     </td><td>Good     </td><td>J        </td><td>SI2      </td><td>63.3     </td><td>58       </td><td>335      </td><td>4.34     </td><td>4.35     </td><td>2.75     </td></tr>\n",
       "\t<tr><td>0.24     </td><td>Very Good</td><td>J        </td><td>VVS2     </td><td>62.8     </td><td>57       </td><td>336      </td><td>3.94     </td><td>3.96     </td><td>2.48     </td></tr>\n",
       "</tbody>\n",
       "</table>\n"
      ],
      "text/latex": [
       "\\begin{tabular}{r|llllllllll}\n",
       " carat & cut & color & clarity & depth & table & price & x & y & z\\\\\n",
       "\\hline\n",
       "\t 0.23      & Ideal     & E         & SI2       & 61.5      & 55        & 326       & 3.95      & 3.98      & 2.43     \\\\\n",
       "\t 0.21      & Premium   & E         & SI1       & 59.8      & 61        & 326       & 3.89      & 3.84      & 2.31     \\\\\n",
       "\t 0.23      & Good      & E         & VS1       & 56.9      & 65        & 327       & 4.05      & 4.07      & 2.31     \\\\\n",
       "\t 0.29      & Premium   & I         & VS2       & 62.4      & 58        & 334       & 4.20      & 4.23      & 2.63     \\\\\n",
       "\t 0.31      & Good      & J         & SI2       & 63.3      & 58        & 335       & 4.34      & 4.35      & 2.75     \\\\\n",
       "\t 0.24      & Very Good & J         & VVS2      & 62.8      & 57        & 336       & 3.94      & 3.96      & 2.48     \\\\\n",
       "\\end{tabular}\n"
      ],
      "text/markdown": [
       "\n",
       "carat | cut | color | clarity | depth | table | price | x | y | z | \n",
       "|---|---|---|---|---|---|\n",
       "| 0.23      | Ideal     | E         | SI2       | 61.5      | 55        | 326       | 3.95      | 3.98      | 2.43      | \n",
       "| 0.21      | Premium   | E         | SI1       | 59.8      | 61        | 326       | 3.89      | 3.84      | 2.31      | \n",
       "| 0.23      | Good      | E         | VS1       | 56.9      | 65        | 327       | 4.05      | 4.07      | 2.31      | \n",
       "| 0.29      | Premium   | I         | VS2       | 62.4      | 58        | 334       | 4.20      | 4.23      | 2.63      | \n",
       "| 0.31      | Good      | J         | SI2       | 63.3      | 58        | 335       | 4.34      | 4.35      | 2.75      | \n",
       "| 0.24      | Very Good | J         | VVS2      | 62.8      | 57        | 336       | 3.94      | 3.96      | 2.48      | \n",
       "\n",
       "\n"
      ],
      "text/plain": [
       "  carat cut       color clarity depth table price x    y    z   \n",
       "1 0.23  Ideal     E     SI2     61.5  55    326   3.95 3.98 2.43\n",
       "2 0.21  Premium   E     SI1     59.8  61    326   3.89 3.84 2.31\n",
       "3 0.23  Good      E     VS1     56.9  65    327   4.05 4.07 2.31\n",
       "4 0.29  Premium   I     VS2     62.4  58    334   4.20 4.23 2.63\n",
       "5 0.31  Good      J     SI2     63.3  58    335   4.34 4.35 2.75\n",
       "6 0.24  Very Good J     VVS2    62.8  57    336   3.94 3.96 2.48"
      ]
     },
     "metadata": {},
     "output_type": "display_data"
    }
   ],
   "source": [
    "head(diamonds)"
   ]
  },
  {
   "cell_type": "code",
   "execution_count": 64,
   "metadata": {
    "collapsed": true
   },
   "outputs": [],
   "source": [
    "\n",
    "urlfile<-'https://raw.github.com/RWorkshop/workshopdatasets/master/idaho.csv'\n",
    "idaho<-read.csv(url(urlfile))"
   ]
  },
  {
   "cell_type": "code",
   "execution_count": 66,
   "metadata": {
    "collapsed": false
   },
   "outputs": [
    {
     "data": {
      "text/html": [
       "<table>\n",
       "<thead><tr><th scope=col>x1</th><th scope=col>x2</th><th scope=col>x3</th><th scope=col>x4</th><th scope=col>y1</th><th scope=col>y2</th><th scope=col>y3</th><th scope=col>y4</th></tr></thead>\n",
       "<tbody>\n",
       "\t<tr><td>10   </td><td>10   </td><td>10   </td><td> 8   </td><td> 8.04</td><td>9.14 </td><td> 7.46</td><td> 6.58</td></tr>\n",
       "\t<tr><td> 8   </td><td> 8   </td><td> 8   </td><td> 8   </td><td> 6.95</td><td>8.14 </td><td> 6.77</td><td> 5.76</td></tr>\n",
       "\t<tr><td>13   </td><td>13   </td><td>13   </td><td> 8   </td><td> 7.58</td><td>8.74 </td><td>12.74</td><td> 7.71</td></tr>\n",
       "\t<tr><td> 9   </td><td> 9   </td><td> 9   </td><td> 8   </td><td> 8.81</td><td>8.77 </td><td> 7.11</td><td> 8.84</td></tr>\n",
       "\t<tr><td>11   </td><td>11   </td><td>11   </td><td> 8   </td><td> 8.33</td><td>9.26 </td><td> 7.81</td><td> 8.47</td></tr>\n",
       "\t<tr><td>14   </td><td>14   </td><td>14   </td><td> 8   </td><td> 9.96</td><td>8.10 </td><td> 8.84</td><td> 7.04</td></tr>\n",
       "\t<tr><td> 6   </td><td> 6   </td><td> 6   </td><td> 8   </td><td> 7.24</td><td>6.13 </td><td> 6.08</td><td> 5.25</td></tr>\n",
       "\t<tr><td> 4   </td><td> 4   </td><td> 4   </td><td>19   </td><td> 4.26</td><td>3.10 </td><td> 5.39</td><td>12.50</td></tr>\n",
       "\t<tr><td>12   </td><td>12   </td><td>12   </td><td> 8   </td><td>10.84</td><td>9.13 </td><td> 8.15</td><td> 5.56</td></tr>\n",
       "\t<tr><td> 7   </td><td> 7   </td><td> 7   </td><td> 8   </td><td> 4.82</td><td>7.26 </td><td> 6.42</td><td> 7.91</td></tr>\n",
       "\t<tr><td> 5   </td><td> 5   </td><td> 5   </td><td> 8   </td><td> 5.68</td><td>4.74 </td><td> 5.73</td><td> 6.89</td></tr>\n",
       "</tbody>\n",
       "</table>\n"
      ],
      "text/latex": [
       "\\begin{tabular}{r|llllllll}\n",
       " x1 & x2 & x3 & x4 & y1 & y2 & y3 & y4\\\\\n",
       "\\hline\n",
       "\t 10    & 10    & 10    &  8    &  8.04 & 9.14  &  7.46 &  6.58\\\\\n",
       "\t  8    &  8    &  8    &  8    &  6.95 & 8.14  &  6.77 &  5.76\\\\\n",
       "\t 13    & 13    & 13    &  8    &  7.58 & 8.74  & 12.74 &  7.71\\\\\n",
       "\t  9    &  9    &  9    &  8    &  8.81 & 8.77  &  7.11 &  8.84\\\\\n",
       "\t 11    & 11    & 11    &  8    &  8.33 & 9.26  &  7.81 &  8.47\\\\\n",
       "\t 14    & 14    & 14    &  8    &  9.96 & 8.10  &  8.84 &  7.04\\\\\n",
       "\t  6    &  6    &  6    &  8    &  7.24 & 6.13  &  6.08 &  5.25\\\\\n",
       "\t  4    &  4    &  4    & 19    &  4.26 & 3.10  &  5.39 & 12.50\\\\\n",
       "\t 12    & 12    & 12    &  8    & 10.84 & 9.13  &  8.15 &  5.56\\\\\n",
       "\t  7    &  7    &  7    &  8    &  4.82 & 7.26  &  6.42 &  7.91\\\\\n",
       "\t  5    &  5    &  5    &  8    &  5.68 & 4.74  &  5.73 &  6.89\\\\\n",
       "\\end{tabular}\n"
      ],
      "text/markdown": [
       "\n",
       "x1 | x2 | x3 | x4 | y1 | y2 | y3 | y4 | \n",
       "|---|---|---|---|---|---|---|---|---|---|---|\n",
       "| 10    | 10    | 10    |  8    |  8.04 | 9.14  |  7.46 |  6.58 | \n",
       "|  8    |  8    |  8    |  8    |  6.95 | 8.14  |  6.77 |  5.76 | \n",
       "| 13    | 13    | 13    |  8    |  7.58 | 8.74  | 12.74 |  7.71 | \n",
       "|  9    |  9    |  9    |  8    |  8.81 | 8.77  |  7.11 |  8.84 | \n",
       "| 11    | 11    | 11    |  8    |  8.33 | 9.26  |  7.81 |  8.47 | \n",
       "| 14    | 14    | 14    |  8    |  9.96 | 8.10  |  8.84 |  7.04 | \n",
       "|  6    |  6    |  6    |  8    |  7.24 | 6.13  |  6.08 |  5.25 | \n",
       "|  4    |  4    |  4    | 19    |  4.26 | 3.10  |  5.39 | 12.50 | \n",
       "| 12    | 12    | 12    |  8    | 10.84 | 9.13  |  8.15 |  5.56 | \n",
       "|  7    |  7    |  7    |  8    |  4.82 | 7.26  |  6.42 |  7.91 | \n",
       "|  5    |  5    |  5    |  8    |  5.68 | 4.74  |  5.73 |  6.89 | \n",
       "\n",
       "\n"
      ],
      "text/plain": [
       "   x1 x2 x3 x4 y1    y2   y3    y4   \n",
       "1  10 10 10  8  8.04 9.14  7.46  6.58\n",
       "2   8  8  8  8  6.95 8.14  6.77  5.76\n",
       "3  13 13 13  8  7.58 8.74 12.74  7.71\n",
       "4   9  9  9  8  8.81 8.77  7.11  8.84\n",
       "5  11 11 11  8  8.33 9.26  7.81  8.47\n",
       "6  14 14 14  8  9.96 8.10  8.84  7.04\n",
       "7   6  6  6  8  7.24 6.13  6.08  5.25\n",
       "8   4  4  4 19  4.26 3.10  5.39 12.50\n",
       "9  12 12 12  8 10.84 9.13  8.15  5.56\n",
       "10  7  7  7  8  4.82 7.26  6.42  7.91\n",
       "11  5  5  5  8  5.68 4.74  5.73  6.89"
      ]
     },
     "metadata": {},
     "output_type": "display_data"
    }
   ],
   "source": [
    "anscombe"
   ]
  },
  {
   "cell_type": "code",
   "execution_count": 67,
   "metadata": {
    "collapsed": true
   },
   "outputs": [],
   "source": [
    "data(smiths)"
   ]
  },
  {
   "cell_type": "code",
   "execution_count": 69,
   "metadata": {
    "collapsed": false
   },
   "outputs": [
    {
     "data": {
      "text/html": [
       "<table>\n",
       "<thead><tr><th scope=col>subject</th><th scope=col>time</th><th scope=col>age</th><th scope=col>weight</th><th scope=col>height</th></tr></thead>\n",
       "<tbody>\n",
       "\t<tr><td>John Smith</td><td>1         </td><td>33        </td><td>90        </td><td>1.87      </td></tr>\n",
       "\t<tr><td>Mary Smith</td><td>1         </td><td>NA        </td><td>NA        </td><td>1.54      </td></tr>\n",
       "</tbody>\n",
       "</table>\n"
      ],
      "text/latex": [
       "\\begin{tabular}{r|lllll}\n",
       " subject & time & age & weight & height\\\\\n",
       "\\hline\n",
       "\t John Smith & 1          & 33         & 90         & 1.87      \\\\\n",
       "\t Mary Smith & 1          & NA         & NA         & 1.54      \\\\\n",
       "\\end{tabular}\n"
      ],
      "text/markdown": [
       "\n",
       "subject | time | age | weight | height | \n",
       "|---|---|\n",
       "| John Smith | 1          | 33         | 90         | 1.87       | \n",
       "| Mary Smith | 1          | NA         | NA         | 1.54       | \n",
       "\n",
       "\n"
      ],
      "text/plain": [
       "  subject    time age weight height\n",
       "1 John Smith 1    33  90     1.87  \n",
       "2 Mary Smith 1    NA  NA     1.54  "
      ]
     },
     "metadata": {},
     "output_type": "display_data"
    }
   ],
   "source": [
    "smiths"
   ]
  },
  {
   "cell_type": "code",
   "execution_count": null,
   "metadata": {
    "collapsed": true
   },
   "outputs": [],
   "source": [
    "\t\\textbf{Using \\texttt{R} to compute mean (and median)}\n",
    "\tWhen implementing this in R, we would use the following code\n",
    "\t\n",
    "\t\\begin{verbatim}\n",
    "\t> x1=c(96, 48, 27, 72, 39, 70, 7, 68, 99 )\n",
    "\t> sort(x1)\n",
    "\t[1]  7 27 39 48 68 70 72 96 99\n",
    "\t> median(x1)\n",
    "\t[1] 68\n",
    "\t>\n",
    "\t> x2=c(96, 48 ,27 ,72, 39, 70, 7, 68)\n",
    "\t> sort(x2)\n",
    "\t[1]  7 27 39 48 68 70 72 96\n",
    "\t> median(x2)\n",
    "\t[1] 58\n",
    "\t\\end{verbatim}"
   ]
  }
 ],
 "metadata": {
  "kernelspec": {
   "display_name": "R",
   "language": "R",
   "name": "r"
  },
  "language_info": {
   "codemirror_mode": "r",
   "file_extension": ".r",
   "mimetype": "text/x-r-source",
   "name": "R",
   "pygments_lexer": "r",
   "version": "3.3.0"
  }
 },
 "nbformat": 4,
 "nbformat_minor": 2
}
