{
 "cells": [
  {
   "cell_type": "code",
   "execution_count": null,
   "metadata": {
    "collapsed": true
   },
   "outputs": [],
   "source": [
    "#### Whiteside\n",
    " \n",
    " \n",
    " \n",
    " The Whiteside data is stored in the MASS package.\n",
    " \n",
    " \\begin{frameD}\n",
    " \\begin{verbatim}\n",
    " > library(MASS)\n",
    " \\end{verbatim}\n",
    " \\end{framed}\n",
    " \n",
    " 1.\n",
    " Get a description of the Whiteside data.\n",
    " \n",
    " 2.\n",
    " What are the names of the columns in the Whiteside data?\n",
    " \n",
    " 3.\n",
    " Create summary statistics for the Whiteside data.\n",
    " \n",
    " 4.\n",
    " Plot gas consumption versus temperature. Use plot symbol 15, and title the plot \"Whiteside’s Gas consumption” .\n",
    "\n",
    "\n",
    "\n",
    "\n",
    "\n",
    "\n"
   ]
  },
  {
   "cell_type": "code",
   "execution_count": null,
   "metadata": {
    "collapsed": true
   },
   "outputs": [],
   "source": [
    " \n",
    " Exercise 12\n",
    "\n",
    "The resident data set ‘mtcars’ contains information about cars from a 1974 Motor Trend issue. Load the data set and answer the following questions.\n",
    "\n",
    ">data(mtcars)\n",
    "\n",
    "\n",
    "\n",
    "1. What are the variable names?\n",
    "\n",
    "2. What is the maximum mpg?\n",
    "\n",
    "3. Which car has this?\n",
    "\n",
    "4. What are the first 5 cars listed?\n",
    "\n",
    "5. What horsepower (hp) does the \"Valiant\" have?\n"
   ]
  },
  {
   "cell_type": "code",
   "execution_count": null,
   "metadata": {
    "collapsed": true
   },
   "outputs": [],
   "source": [
    "%==================================================================================%\n",
    "\n",
    "Exercise 15\n",
    "\n",
    " \n",
    "\n",
    "In the library MASS is a dataset UScereal which contains information about popular breakfast cereals.\n",
    "\n",
    " \n",
    "\n",
    "Attach the data set as follows\n",
    "\n",
    "> library('MASS')\n",
    "\n",
    "> data('UScereal')\n",
    "\n",
    "> attach(UScereal)\n",
    "\n",
    "> names(UScereal)         # to see the names\n",
    "\n",
    " \n",
    "\n",
    "Now, investigate the following relationships, and make comments on what you see. You can use tables, barplots, scatterplots etc. to do your investigation.\n",
    "\n",
    " \n",
    "\n",
    "1. The relationship between manufacturer and shelf\n",
    "\n",
    "2. The relationship between fat and vitamins\n",
    "\n",
    "3. The relationship between fat and shelf\n",
    "\n",
    "4. The relationship between carbohydrates and sugars\n",
    "\n",
    "5. The relationship between fibre and manufacturer\n",
    "\n",
    "6. The relationship between sodium and sugars"
   ]
  }
 ],
 "metadata": {
  "kernelspec": {
   "display_name": "R",
   "language": "R",
   "name": "r"
  },
  "language_info": {
   "codemirror_mode": "r",
   "file_extension": ".r",
   "mimetype": "text/x-r-source",
   "name": "R",
   "pygments_lexer": "r",
   "version": "3.3.0"
  }
 },
 "nbformat": 4,
 "nbformat_minor": 2
}
