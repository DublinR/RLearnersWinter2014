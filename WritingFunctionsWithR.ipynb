{
 "cells": [
  {
   "cell_type": "code",
   "execution_count": null,
   "metadata": {
    "collapsed": true
   },
   "outputs": [],
   "source": [
    "%======================================================================================================== %\n",
    "\\section*{8. Writing functions}\n",
    "\n",
    "\n",
    "The last thing we're going to look at is what really makes R powerful: writing your own functions. If you do something once it's not a problem to type in each command as we've done here. But if you frequently do some particular task, it would be nice to automate it so that it could be done with a single command. In calculating the y-values for the polynomial lines for our graph, we used the cbind() function with a term for each column. If you were going to do this a lot with large order polynomials, you might want to automate the task of creating this matrix. Open a text editor, such as Notepad, where you will write your function. Here is a listing of one way to write this function: \n",
    "polymat <- function(x, deg) {\n",
    "    out <- numeric(0)\n",
    "    for(i in 0:deg) out <- cbind(out, x^i)\n",
    "    return(out)\n",
    "}\n",
    "\\end{verbatim}\n",
    "\\end{framed}\n",
    "Type this into the script window exactly. Save the file in your working directory with a name like polymat.R. Now from the File menu in R, select Source R Code. Look at the command line window to see the function call and to check for any errors here. If there are errors, it's most likely that you typed something in wrong. Double check the syntax and try again. When it sources OK, use the function objects() to see that your function polymat() was really created. Here's how the function works. Give it a vector for x and the polynomial degree you want. It will return a matrix with all ones in the the first column, the second column equal to x, the third column equal to x2, etc. Try it out with a simple vector: \n",
    "\\begin{framed}\n",
    "\\begin{verbatim}\n",
    "> polymat(1:5, 3)\n",
    "     [,1] [,2] [,3] [,4] \n",
    "[1,]    1    1    1    1\n",
    "[2,]    1    2    4    8\n",
    "[3,]    1    3    9   27\n",
    "[4,]    1    4   16   64\n",
    "[5,]    1    5   25  125\n",
    "\n",
    "\\end{verbatim}\n",
    "\\end{framed}\n",
    "Note the 1:5 used here. This is just a shorthand way of getting a vector of integers between two numbers. Now you can use this function when you want to create a vector of y-values to plot. This is how you would use it as an alternative to how you created y4 previously: \n",
    "> y4 <- polymat(x, 6) %*% coef6\n",
    "Now if you really want to automate the process, let's write a function that will fit whatever order polynomial you want and plot the graph all with one command. Open another text editor window and type in this function. \n",
    "poly.fit <- function(deg=2, data=df) {\n",
    "    pfit <- lm(data$vel~polymat(data$conc,deg)[, -1])\n",
    "    pcoef <- coef(pfit)\n",
    "    x <- seq(0, 0.4, length=100)\n",
    "    y <- polymat(x, deg) %*% pcoef\n",
    "    plot(data$conc, data$vel, xlim=c(0,0.4), ylim=c(0,5),\n",
    "         xlab=\"Substrate Concentration\", ylab=\"Reaction Rate\")\n",
    "    lines(x,y)\n",
    "    invisible()\n",
    "\n",
    "}\n",
    "\\end{verbatim}\n",
    "\\end{framed}\n",
    "You should recognize most of the lines in this function The call to lm uses the polymat function we just wrote. However, we don't want the first column of 1's in the matrix here. We can remove it with \\texttt{polymat(data$conc,deg)[, -1]}. Remember that within square brackets like this the first number references the rows and the second number references the columns. We don't identify any rows so by default we get them all. Instead of specifying which columns we want, we specify which we don't want by using the minus sign. The \\texttt{invisible()} function is used because nothing is being returned from poly.fit() other than a graph. \n",
    "It's important to note that you don't have to put everything in a single function. Here we wrote a smaller function to create the polynomial matrix and then we called it from within another function. \n",
    "\n",
    "It's usually more efficient to build a library of smaller functions that do specific tasks and then pull them together as needed. Notice also that the data frame is an argument to this function. This way the function is not specific to just one data set, although from the way the function is written, it must have columns labeled vel and conc. \n",
    "Remember to source the function in order to use it. Notice that both arguments have defaults so you could use the function with no arguments within the parentheses. To try a 4th order polynomial and see the fit, use the function like this: \n",
    "> poly.fit(4)\n",
    "That's all there is to it. Hopefully you can see the value of being able to write your own functions this easily. Can you modify the function so that it returns the coefficients? \n",
    "\n",
    "\n",
    "\\end{document}\n",
    "\n"
   ]
  }
 ],
 "metadata": {
  "kernelspec": {
   "display_name": "R",
   "language": "R",
   "name": "r"
  },
  "language_info": {
   "codemirror_mode": "r",
   "file_extension": ".r",
   "mimetype": "text/x-r-source",
   "name": "R",
   "pygments_lexer": "r",
   "version": "3.3.0"
  }
 },
 "nbformat": 4,
 "nbformat_minor": 2
}
